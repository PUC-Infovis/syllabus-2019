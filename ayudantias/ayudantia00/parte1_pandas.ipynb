{
  "nbformat": 4,
  "nbformat_minor": 0,
  "metadata": {
    "kernelspec": {
      "display_name": "Python 3",
      "language": "python",
      "name": "python3"
    },
    "language_info": {
      "codemirror_mode": {
        "name": "ipython",
        "version": 3
      },
      "file_extension": ".py",
      "mimetype": "text/x-python",
      "name": "python",
      "nbconvert_exporter": "python",
      "pygments_lexer": "ipython3",
      "version": "3.7.4"
    },
    "colab": {
      "name": "parte1_pandas.ipynb",
      "version": "0.3.2",
      "provenance": [],
      "include_colab_link": true
    }
  },
  "cells": [
    {
      "cell_type": "markdown",
      "metadata": {
        "id": "view-in-github",
        "colab_type": "text"
      },
      "source": [
        "<a href=\"https://colab.research.google.com/github/PUC-Infovis/syllabus-2019/blob/master/ayudantias/ayudantia00/parte1_pandas.ipynb\" target=\"_parent\"><img src=\"https://colab.research.google.com/assets/colab-badge.svg\" alt=\"Open In Colab\"/></a>"
      ]
    },
    {
      "cell_type": "markdown",
      "metadata": {
        "id": "PwnAVkuHTvFb",
        "colab_type": "text"
      },
      "source": [
        "# **Ayudantía 00 || Parte 1: [Pandas](https://pandas.pydata.org/ \"Pandas' homepage\")**\n",
        "### Por Vicente Valencia\n",
        "---"
      ]
    },
    {
      "cell_type": "markdown",
      "metadata": {
        "id": "_1v3QldnTvFe",
        "colab_type": "text"
      },
      "source": [
        "### ¿Qué es Pandas?\n",
        "\n",
        "Pandas es una librería de Python que provee estructuras de datos y herramientas de análisis de datos."
      ]
    },
    {
      "cell_type": "markdown",
      "metadata": {
        "id": "bndPS4oTTvFf",
        "colab_type": "text"
      },
      "source": [
        "### ¿Por qué usar Pandas?\n",
        "\n",
        "- Aumenta la productividad de quien lo use\n",
        "\n",
        "- La ejecución de las funcionalidades de la librería es eficiente (usualmente más de lo que uno puede concebir en poco tiempo usando solo Python)\n",
        "\n",
        "- Es una excelente herramienta para procesar datos y analizarlos rápidamente\n"
      ]
    },
    {
      "cell_type": "markdown",
      "metadata": {
        "id": "wBEjoFzbTvFh",
        "colab_type": "text"
      },
      "source": [
        "### ¿Cómo usar Pandas?\n",
        "\n",
        "Para poder usar Pandas, primero hay que entender cómo funciona y cuáles son sus piezas fundamentales (además de tenerlo instalado - con `pip`, por ejemplo -, pues no viene incluido con la librería estándar de Python). [Aquí](https://pandas.pydata.org/pandas-docs/stable/tutorials.html) hay una compilación de tutoriales con una infinidad de información y técnicas de uso de pandas.\n",
        "\n",
        "Antes de empezar, hay que tener claro que Pandas utiliza fuertemente la librería [NumPy](http://www.numpy.org/) y es compatible con ella, lo que se refleja en la forma de las estructuras de datos provistas por Pandas y de muchos de los argumentos de muchas funciones y métodos de la librería.\n",
        "\n",
        "Se empieza importando la librería, lo que por convención se hace de la siguiente manera:"
      ]
    },
    {
      "cell_type": "code",
      "metadata": {
        "id": "E7xrX9k0TvFi",
        "colab_type": "code",
        "colab": {}
      },
      "source": [
        "import pandas as pd"
      ],
      "execution_count": 0,
      "outputs": []
    },
    {
      "cell_type": "markdown",
      "metadata": {
        "id": "_SlKP_sgTvFn",
        "colab_type": "text"
      },
      "source": [
        "***\n",
        "# 1. Estructuras de datos\n",
        "\n",
        "Las estructuras de datos principales que provee la librería son las [series](https://pandas.pydata.org/pandas-docs/stable/generated/pandas.Series.html \"Documentación de Series\") y los [Dataframes](https://pandas.pydata.org/pandas-docs/stable/generated/pandas.DataFrame.html \"Documentación de DataFrama\")."
      ]
    },
    {
      "cell_type": "markdown",
      "metadata": {
        "id": "rmDYQ6ToTvFo",
        "colab_type": "text"
      },
      "source": [
        "## 1.1. [Series](https://pandas.pydata.org/pandas-docs/stable/generated/pandas.Series.html)\n",
        "\n",
        "Las series son conjuntos de datos **unidimensionales** e **indexados**. Son como listas de Python pero indexables no solo por números. Los datos que contienen **son del mismo tipo** (*e.g.* string, float). Para crear una serie se debe instanciar un objeto *Series*. El primer argumento del constructor es `data`, pero hay muchos más de los que pueden leer en [la documetación](https://pandas.pydata.org/pandas-docs/stable/generated/pandas.Series.html).\n",
        "\n",
        "```python\n",
        "pd.Series(data)  # instanciación simple y común\n",
        "```\n",
        "\n",
        "`data` puede ser de varias formas diferentes: [*array-like*](https://stackoverflow.com/questions/40378427/numpy-formal-definition-of-array-like-objects), *dict* o *scalar value*. En términos **simplificados**: puede ser un [array de NumPy](https://docs.scipy.org/doc/numpy/reference/arrays.ndarray.html), un diccionario de Python o un valor escalar (un número).\n",
        "\n",
        "Por ejemplo, pasando una lista de números"
      ]
    },
    {
      "cell_type": "code",
      "metadata": {
        "id": "-tOt3TzmTvFp",
        "colab_type": "code",
        "colab": {
          "base_uri": "https://localhost:8080/",
          "height": 104
        },
        "outputId": "fcb23f6a-a7f0-4ace-85e0-4ba12bc10973"
      },
      "source": [
        "s0 = pd.Series([5, 8, 0, 10])\n",
        "s0"
      ],
      "execution_count": 2,
      "outputs": [
        {
          "output_type": "execute_result",
          "data": {
            "text/plain": [
              "0     5\n",
              "1     8\n",
              "2     0\n",
              "3    10\n",
              "dtype: int64"
            ]
          },
          "metadata": {
            "tags": []
          },
          "execution_count": 2
        }
      ]
    },
    {
      "cell_type": "markdown",
      "metadata": {
        "id": "SQDVsKjNTvFu",
        "colab_type": "text"
      },
      "source": [
        "En el llamado anterior, Pandas infirió un tipo de dato para los datos de la serie: `int64`. Los tipos de datos de Pandas tienen relación con los tipos de datos de Python y de NumPy. De esto pueden leer más [aquí](http://pbpython.com/pandas_dtypes.html). Además, se creo un índice ([Pandas index](https://pandas.pydata.org/pandas-docs/stable/generated/pandas.Index.html)) que permite tener acceso rápido a cualquiera de los datos. Este índice es la columna de la izquierda que va desde el 0 al 3.\n",
        "\n",
        "La *property* [`loc`](https://pandas.pydata.org/pandas-docs/stable/generated/pandas.Series.loc.html) permite acceder a los datos mediante el índice (también existe [`iloc`](https://pandas.pydata.org/pandas-docs/stable/generated/pandas.Series.iloc.html), que puede seleccionar datos como se acostumbra a hacer con listas de Python)."
      ]
    },
    {
      "cell_type": "code",
      "metadata": {
        "id": "JGX59H0zTvFv",
        "colab_type": "code",
        "colab": {
          "base_uri": "https://localhost:8080/",
          "height": 35
        },
        "outputId": "e90290cc-c48b-4bb1-e558-fad9c5e67808"
      },
      "source": [
        "s0.loc[2]  # acceso al elemento de la serie indexado por el número 2"
      ],
      "execution_count": 3,
      "outputs": [
        {
          "output_type": "execute_result",
          "data": {
            "text/plain": [
              "0"
            ]
          },
          "metadata": {
            "tags": []
          },
          "execution_count": 3
        }
      ]
    },
    {
      "cell_type": "code",
      "metadata": {
        "id": "JvogkPdvTvFy",
        "colab_type": "code",
        "colab": {
          "base_uri": "https://localhost:8080/",
          "height": 69
        },
        "outputId": "d5fcca5a-c19b-41fa-d35f-cf9b436cd260"
      },
      "source": [
        "s0.loc[[0, 2]]  # elementos indexados por 0 y 2"
      ],
      "execution_count": 4,
      "outputs": [
        {
          "output_type": "execute_result",
          "data": {
            "text/plain": [
              "0    5\n",
              "2    0\n",
              "dtype: int64"
            ]
          },
          "metadata": {
            "tags": []
          },
          "execution_count": 4
        }
      ]
    },
    {
      "cell_type": "markdown",
      "metadata": {
        "id": "er2uKCNPTvF0",
        "colab_type": "text"
      },
      "source": [
        "Se puede especificar, también, un índice explícitamente para una serie:"
      ]
    },
    {
      "cell_type": "code",
      "metadata": {
        "id": "42WO3dm6TvF1",
        "colab_type": "code",
        "colab": {
          "base_uri": "https://localhost:8080/",
          "height": 104
        },
        "outputId": "6382d3a9-ee1a-407c-a427-b7a48a0ea509"
      },
      "source": [
        "s1 = pd.Series(['a', 2, 'c', 4], index=['z', 'x', 'w', 'y'])\n",
        "s1"
      ],
      "execution_count": 5,
      "outputs": [
        {
          "output_type": "execute_result",
          "data": {
            "text/plain": [
              "z    a\n",
              "x    2\n",
              "w    c\n",
              "y    4\n",
              "dtype: object"
            ]
          },
          "metadata": {
            "tags": []
          },
          "execution_count": 5
        }
      ]
    },
    {
      "cell_type": "code",
      "metadata": {
        "id": "8tTe5ATaTvF4",
        "colab_type": "code",
        "colab": {
          "base_uri": "https://localhost:8080/",
          "height": 35
        },
        "outputId": "227a51e8-d12a-4b1e-f560-aec44652966d"
      },
      "source": [
        "s1.loc['x']  # acceso al valor indexado por 'x'"
      ],
      "execution_count": 6,
      "outputs": [
        {
          "output_type": "execute_result",
          "data": {
            "text/plain": [
              "2"
            ]
          },
          "metadata": {
            "tags": []
          },
          "execution_count": 6
        }
      ]
    },
    {
      "cell_type": "markdown",
      "metadata": {
        "id": "IE5AV4SATvF6",
        "colab_type": "text"
      },
      "source": [
        "Nótese que en `s1` hay letras y números, pero Pandas los transforma a un solo tipo de dato: `object`, que [es semejante a `str` de Python](https://stackoverflow.com/questions/34881079/pandas-distinction-between-str-and-object-types). Si se necesita conocer el tipo de dato de una serie, se puede utilizar el [método `dtype`](https://pandas.pydata.org/pandas-docs/stable/generated/pandas.Series.dtype.html).\n",
        "\n",
        "Por último, existe la instanciación con diccionarios y con escalares:"
      ]
    },
    {
      "cell_type": "code",
      "metadata": {
        "id": "LC6ZISFiTvF8",
        "colab_type": "code",
        "colab": {
          "base_uri": "https://localhost:8080/",
          "height": 87
        },
        "outputId": "b73e9b79-e676-4e1f-fc65-ddd05cf3b799"
      },
      "source": [
        "s2 = pd.Series({'i0': 'v0', 'i1': 'v1', 'i2': 'v3'})  # instanciación con diccionario. Keys=index, values=values\n",
        "s2"
      ],
      "execution_count": 7,
      "outputs": [
        {
          "output_type": "execute_result",
          "data": {
            "text/plain": [
              "i0    v0\n",
              "i1    v1\n",
              "i2    v3\n",
              "dtype: object"
            ]
          },
          "metadata": {
            "tags": []
          },
          "execution_count": 7
        }
      ]
    },
    {
      "cell_type": "code",
      "metadata": {
        "id": "hSsgV1-9TvGA",
        "colab_type": "code",
        "colab": {
          "base_uri": "https://localhost:8080/",
          "height": 121
        },
        "outputId": "f3d9f16a-a8c9-4308-866f-669638206480"
      },
      "source": [
        "s3 = pd.Series(3.14, index=range(5))  # instanciación con escalar. Todos los valores son iguales\n",
        "s3"
      ],
      "execution_count": 8,
      "outputs": [
        {
          "output_type": "execute_result",
          "data": {
            "text/plain": [
              "0    3.14\n",
              "1    3.14\n",
              "2    3.14\n",
              "3    3.14\n",
              "4    3.14\n",
              "dtype: float64"
            ]
          },
          "metadata": {
            "tags": []
          },
          "execution_count": 8
        }
      ]
    },
    {
      "cell_type": "markdown",
      "metadata": {
        "id": "xvwEthDfTvGE",
        "colab_type": "text"
      },
      "source": [
        "## 1.2 [DataFrames](https://pandas.pydata.org/pandas-docs/stable/generated/pandas.DataFrame.html)\n",
        "\n",
        "Los *DataFrames* son otro tipo de estructura de datos que puede ser vista como una generalización de las series; como tablas (indexadas) con series como columnas. Cabe notar que pueden ser tablas multidimensionales, no solo de dos dimensiones.\n",
        "\n",
        "El primer argumento del constructor *DataFrame* es `data` como en las series y puede ser un array de NumPy, un diccionario u otro *DataFrame*.\n",
        "\n",
        "A diferencia de las series, si se instancia un *DataFrame* con un diccionario, las llaves del diccionario pasan a ser los nombres de las columnas y los valores del diccionario pasan a ser los valores de las columnas."
      ]
    },
    {
      "cell_type": "code",
      "metadata": {
        "id": "4jESeypoTvGF",
        "colab_type": "code",
        "colab": {
          "base_uri": "https://localhost:8080/",
          "height": 141
        },
        "outputId": "d7cca114-5119-4805-cb23-ed36d90ec159"
      },
      "source": [
        "df0 = pd.DataFrame({\n",
        "    'C1': [1., 2, 3], \n",
        "    'C2': 42, \n",
        "    'C3': [69, 'el mundo digital', False] \n",
        "})  # instanciación con diccionario\n",
        "df0"
      ],
      "execution_count": 9,
      "outputs": [
        {
          "output_type": "execute_result",
          "data": {
            "text/html": [
              "<div>\n",
              "<style scoped>\n",
              "    .dataframe tbody tr th:only-of-type {\n",
              "        vertical-align: middle;\n",
              "    }\n",
              "\n",
              "    .dataframe tbody tr th {\n",
              "        vertical-align: top;\n",
              "    }\n",
              "\n",
              "    .dataframe thead th {\n",
              "        text-align: right;\n",
              "    }\n",
              "</style>\n",
              "<table border=\"1\" class=\"dataframe\">\n",
              "  <thead>\n",
              "    <tr style=\"text-align: right;\">\n",
              "      <th></th>\n",
              "      <th>C1</th>\n",
              "      <th>C2</th>\n",
              "      <th>C3</th>\n",
              "    </tr>\n",
              "  </thead>\n",
              "  <tbody>\n",
              "    <tr>\n",
              "      <th>0</th>\n",
              "      <td>1.0</td>\n",
              "      <td>42</td>\n",
              "      <td>69</td>\n",
              "    </tr>\n",
              "    <tr>\n",
              "      <th>1</th>\n",
              "      <td>2.0</td>\n",
              "      <td>42</td>\n",
              "      <td>el mundo digital</td>\n",
              "    </tr>\n",
              "    <tr>\n",
              "      <th>2</th>\n",
              "      <td>3.0</td>\n",
              "      <td>42</td>\n",
              "      <td>False</td>\n",
              "    </tr>\n",
              "  </tbody>\n",
              "</table>\n",
              "</div>"
            ],
            "text/plain": [
              "    C1  C2                C3\n",
              "0  1.0  42                69\n",
              "1  2.0  42  el mundo digital\n",
              "2  3.0  42             False"
            ]
          },
          "metadata": {
            "tags": []
          },
          "execution_count": 9
        }
      ]
    },
    {
      "cell_type": "markdown",
      "metadata": {
        "id": "rvKR2F3KTvGH",
        "colab_type": "text"
      },
      "source": [
        "Es importante saber que las columnas de los *DataFrames* pueden contener datos de tipos diferentes, su atributo [`dtypes`](https://pandas.pydata.org/pandas-docs/stable/generated/pandas.DataFrame.dtypes.html#pandas.DataFrame.dtypes) permite identificar estos tipos de datos para cada columna."
      ]
    },
    {
      "cell_type": "code",
      "metadata": {
        "id": "DRPcRwtmTvGI",
        "colab_type": "code",
        "colab": {
          "base_uri": "https://localhost:8080/",
          "height": 87
        },
        "outputId": "b246de6b-3798-4ced-e5c9-9d5cd9463fce"
      },
      "source": [
        "df0.dtypes"
      ],
      "execution_count": 10,
      "outputs": [
        {
          "output_type": "execute_result",
          "data": {
            "text/plain": [
              "C1    float64\n",
              "C2      int64\n",
              "C3     object\n",
              "dtype: object"
            ]
          },
          "metadata": {
            "tags": []
          },
          "execution_count": 10
        }
      ]
    },
    {
      "cell_type": "markdown",
      "metadata": {
        "id": "EWbQh68sTvGL",
        "colab_type": "text"
      },
      "source": [
        "En la celda anterior se evidencia que cada columna de `df0` tiene tipos de datos diferentes. La columna `C3`, en particular, fue creada usando una lista (*i.e.* ```[69, 'el mundo digital', False]```) con valores de distinta naturaleza: un *integer*, un *string* y un valor booleano. Pandas simplemente convirtió estos valores a su tipo de dato `object`.\n",
        "\n",
        "Ahora un ejemplo de instanciación con un array de NumPy creado con la función [`randint`](https://docs.scipy.org/doc/numpy/reference/generated/numpy.random.randint.html) del módulo [`random`](https://docs.scipy.org/doc/numpy/reference/routines.random.html)."
      ]
    },
    {
      "cell_type": "code",
      "metadata": {
        "id": "R7-tfsvxTvGL",
        "colab_type": "code",
        "colab": {}
      },
      "source": [
        "import numpy as np"
      ],
      "execution_count": 0,
      "outputs": []
    },
    {
      "cell_type": "code",
      "metadata": {
        "id": "0QUh2aUNTvGO",
        "colab_type": "code",
        "colab": {
          "base_uri": "https://localhost:8080/",
          "height": 202
        },
        "outputId": "c363fabd-23d5-47d7-9ab6-ae983efe0b53"
      },
      "source": [
        "df1 = pd.DataFrame(\n",
        "    np.random.randint(low=0, high=10, size=(5, 5)),\n",
        "    columns=['a', 'b', 'c', 'd', 'e'],\n",
        "    index=[68, 102, -4, 'u', 'vw']\n",
        ")  # instanciación con NumPy array\n",
        "df1"
      ],
      "execution_count": 12,
      "outputs": [
        {
          "output_type": "execute_result",
          "data": {
            "text/html": [
              "<div>\n",
              "<style scoped>\n",
              "    .dataframe tbody tr th:only-of-type {\n",
              "        vertical-align: middle;\n",
              "    }\n",
              "\n",
              "    .dataframe tbody tr th {\n",
              "        vertical-align: top;\n",
              "    }\n",
              "\n",
              "    .dataframe thead th {\n",
              "        text-align: right;\n",
              "    }\n",
              "</style>\n",
              "<table border=\"1\" class=\"dataframe\">\n",
              "  <thead>\n",
              "    <tr style=\"text-align: right;\">\n",
              "      <th></th>\n",
              "      <th>a</th>\n",
              "      <th>b</th>\n",
              "      <th>c</th>\n",
              "      <th>d</th>\n",
              "      <th>e</th>\n",
              "    </tr>\n",
              "  </thead>\n",
              "  <tbody>\n",
              "    <tr>\n",
              "      <th>68</th>\n",
              "      <td>8</td>\n",
              "      <td>6</td>\n",
              "      <td>5</td>\n",
              "      <td>5</td>\n",
              "      <td>7</td>\n",
              "    </tr>\n",
              "    <tr>\n",
              "      <th>102</th>\n",
              "      <td>2</td>\n",
              "      <td>5</td>\n",
              "      <td>2</td>\n",
              "      <td>4</td>\n",
              "      <td>4</td>\n",
              "    </tr>\n",
              "    <tr>\n",
              "      <th>-4</th>\n",
              "      <td>2</td>\n",
              "      <td>4</td>\n",
              "      <td>7</td>\n",
              "      <td>2</td>\n",
              "      <td>2</td>\n",
              "    </tr>\n",
              "    <tr>\n",
              "      <th>u</th>\n",
              "      <td>3</td>\n",
              "      <td>5</td>\n",
              "      <td>4</td>\n",
              "      <td>1</td>\n",
              "      <td>4</td>\n",
              "    </tr>\n",
              "    <tr>\n",
              "      <th>vw</th>\n",
              "      <td>6</td>\n",
              "      <td>0</td>\n",
              "      <td>3</td>\n",
              "      <td>7</td>\n",
              "      <td>9</td>\n",
              "    </tr>\n",
              "  </tbody>\n",
              "</table>\n",
              "</div>"
            ],
            "text/plain": [
              "     a  b  c  d  e\n",
              "68   8  6  5  5  7\n",
              "102  2  5  2  4  4\n",
              "-4   2  4  7  2  2\n",
              "u    3  5  4  1  4\n",
              "vw   6  0  3  7  9"
            ]
          },
          "metadata": {
            "tags": []
          },
          "execution_count": 12
        }
      ]
    },
    {
      "cell_type": "markdown",
      "metadata": {
        "id": "QhoFAQULTvGQ",
        "colab_type": "text"
      },
      "source": [
        "También se puede usar la *property* [`loc`](https://pandas.pydata.org/pandas-docs/stable/generated/pandas.DataFrame.loc.html) e [`iloc`](https://pandas.pydata.org/pandas-docs/stable/generated/pandas.DataFrame.iloc.html#pandas.DataFrame.iloc) para seleccionar **subconjuntos de filas y columnas** del *DataFrame*."
      ]
    },
    {
      "cell_type": "code",
      "metadata": {
        "id": "Z3uDSyqCTvGR",
        "colab_type": "code",
        "colab": {
          "base_uri": "https://localhost:8080/",
          "height": 87
        },
        "outputId": "ccac605d-9449-4e5a-8bbe-6658a540bfaf"
      },
      "source": [
        "df0.loc[1] # fila indexada por 2 del DataFrame"
      ],
      "execution_count": 14,
      "outputs": [
        {
          "output_type": "execute_result",
          "data": {
            "text/plain": [
              "C1                   2\n",
              "C2                  42\n",
              "C3    el mundo digital\n",
              "Name: 1, dtype: object"
            ]
          },
          "metadata": {
            "tags": []
          },
          "execution_count": 14
        }
      ]
    },
    {
      "cell_type": "code",
      "metadata": {
        "id": "l3OQn5svTvGU",
        "colab_type": "code",
        "colab": {
          "base_uri": "https://localhost:8080/",
          "height": 141
        },
        "outputId": "5c51cb93-c1f3-4e25-d040-9c415b732078"
      },
      "source": [
        "df1.loc[['u', -4, 102]] # filas indexadas por 'u', -4 y 102"
      ],
      "execution_count": 15,
      "outputs": [
        {
          "output_type": "execute_result",
          "data": {
            "text/html": [
              "<div>\n",
              "<style scoped>\n",
              "    .dataframe tbody tr th:only-of-type {\n",
              "        vertical-align: middle;\n",
              "    }\n",
              "\n",
              "    .dataframe tbody tr th {\n",
              "        vertical-align: top;\n",
              "    }\n",
              "\n",
              "    .dataframe thead th {\n",
              "        text-align: right;\n",
              "    }\n",
              "</style>\n",
              "<table border=\"1\" class=\"dataframe\">\n",
              "  <thead>\n",
              "    <tr style=\"text-align: right;\">\n",
              "      <th></th>\n",
              "      <th>a</th>\n",
              "      <th>b</th>\n",
              "      <th>c</th>\n",
              "      <th>d</th>\n",
              "      <th>e</th>\n",
              "    </tr>\n",
              "  </thead>\n",
              "  <tbody>\n",
              "    <tr>\n",
              "      <th>u</th>\n",
              "      <td>3</td>\n",
              "      <td>5</td>\n",
              "      <td>4</td>\n",
              "      <td>1</td>\n",
              "      <td>4</td>\n",
              "    </tr>\n",
              "    <tr>\n",
              "      <th>-4</th>\n",
              "      <td>2</td>\n",
              "      <td>4</td>\n",
              "      <td>7</td>\n",
              "      <td>2</td>\n",
              "      <td>2</td>\n",
              "    </tr>\n",
              "    <tr>\n",
              "      <th>102</th>\n",
              "      <td>2</td>\n",
              "      <td>5</td>\n",
              "      <td>2</td>\n",
              "      <td>4</td>\n",
              "      <td>4</td>\n",
              "    </tr>\n",
              "  </tbody>\n",
              "</table>\n",
              "</div>"
            ],
            "text/plain": [
              "     a  b  c  d  e\n",
              "u    3  5  4  1  4\n",
              "-4   2  4  7  2  2\n",
              "102  2  5  2  4  4"
            ]
          },
          "metadata": {
            "tags": []
          },
          "execution_count": 15
        }
      ]
    },
    {
      "cell_type": "code",
      "metadata": {
        "id": "Xh52utV6TvGW",
        "colab_type": "code",
        "colab": {
          "base_uri": "https://localhost:8080/",
          "height": 141
        },
        "outputId": "c793560c-a14f-4bbd-9283-8f37aa7909bd"
      },
      "source": [
        "df1.loc[['u', -4, 102], ['c', 'e']]  # lo mismo de arriba, pero filtrando columnas"
      ],
      "execution_count": 16,
      "outputs": [
        {
          "output_type": "execute_result",
          "data": {
            "text/html": [
              "<div>\n",
              "<style scoped>\n",
              "    .dataframe tbody tr th:only-of-type {\n",
              "        vertical-align: middle;\n",
              "    }\n",
              "\n",
              "    .dataframe tbody tr th {\n",
              "        vertical-align: top;\n",
              "    }\n",
              "\n",
              "    .dataframe thead th {\n",
              "        text-align: right;\n",
              "    }\n",
              "</style>\n",
              "<table border=\"1\" class=\"dataframe\">\n",
              "  <thead>\n",
              "    <tr style=\"text-align: right;\">\n",
              "      <th></th>\n",
              "      <th>c</th>\n",
              "      <th>e</th>\n",
              "    </tr>\n",
              "  </thead>\n",
              "  <tbody>\n",
              "    <tr>\n",
              "      <th>u</th>\n",
              "      <td>4</td>\n",
              "      <td>4</td>\n",
              "    </tr>\n",
              "    <tr>\n",
              "      <th>-4</th>\n",
              "      <td>7</td>\n",
              "      <td>2</td>\n",
              "    </tr>\n",
              "    <tr>\n",
              "      <th>102</th>\n",
              "      <td>2</td>\n",
              "      <td>4</td>\n",
              "    </tr>\n",
              "  </tbody>\n",
              "</table>\n",
              "</div>"
            ],
            "text/plain": [
              "     c  e\n",
              "u    4  4\n",
              "-4   7  2\n",
              "102  2  4"
            ]
          },
          "metadata": {
            "tags": []
          },
          "execution_count": 16
        }
      ]
    },
    {
      "cell_type": "code",
      "metadata": {
        "id": "9QTey0ySTvGY",
        "colab_type": "code",
        "colab": {
          "base_uri": "https://localhost:8080/",
          "height": 202
        },
        "outputId": "aa389bf1-8f3c-41d8-f19a-42c6bf8f037a"
      },
      "source": [
        "df1[['a', 'c', 'e']]  # solamente selección de columnas (sin loc)"
      ],
      "execution_count": 17,
      "outputs": [
        {
          "output_type": "execute_result",
          "data": {
            "text/html": [
              "<div>\n",
              "<style scoped>\n",
              "    .dataframe tbody tr th:only-of-type {\n",
              "        vertical-align: middle;\n",
              "    }\n",
              "\n",
              "    .dataframe tbody tr th {\n",
              "        vertical-align: top;\n",
              "    }\n",
              "\n",
              "    .dataframe thead th {\n",
              "        text-align: right;\n",
              "    }\n",
              "</style>\n",
              "<table border=\"1\" class=\"dataframe\">\n",
              "  <thead>\n",
              "    <tr style=\"text-align: right;\">\n",
              "      <th></th>\n",
              "      <th>a</th>\n",
              "      <th>c</th>\n",
              "      <th>e</th>\n",
              "    </tr>\n",
              "  </thead>\n",
              "  <tbody>\n",
              "    <tr>\n",
              "      <th>68</th>\n",
              "      <td>8</td>\n",
              "      <td>5</td>\n",
              "      <td>7</td>\n",
              "    </tr>\n",
              "    <tr>\n",
              "      <th>102</th>\n",
              "      <td>2</td>\n",
              "      <td>2</td>\n",
              "      <td>4</td>\n",
              "    </tr>\n",
              "    <tr>\n",
              "      <th>-4</th>\n",
              "      <td>2</td>\n",
              "      <td>7</td>\n",
              "      <td>2</td>\n",
              "    </tr>\n",
              "    <tr>\n",
              "      <th>u</th>\n",
              "      <td>3</td>\n",
              "      <td>4</td>\n",
              "      <td>4</td>\n",
              "    </tr>\n",
              "    <tr>\n",
              "      <th>vw</th>\n",
              "      <td>6</td>\n",
              "      <td>3</td>\n",
              "      <td>9</td>\n",
              "    </tr>\n",
              "  </tbody>\n",
              "</table>\n",
              "</div>"
            ],
            "text/plain": [
              "     a  c  e\n",
              "68   8  5  7\n",
              "102  2  2  4\n",
              "-4   2  7  2\n",
              "u    3  4  4\n",
              "vw   6  3  9"
            ]
          },
          "metadata": {
            "tags": []
          },
          "execution_count": 17
        }
      ]
    },
    {
      "cell_type": "markdown",
      "metadata": {
        "id": "i3EvXGSSTvGc",
        "colab_type": "text"
      },
      "source": [
        "***\n",
        "# 2. Resumiendo datos\n",
        "\n",
        "Si se quiere atisbar los datos, existen métodos para esto, de los que algunos son [`head`](https://pandas.pydata.org/pandas-docs/stable/generated/pandas.DataFrame.head.html), [`tail`](https://pandas.pydata.org/pandas-docs/stable/generated/pandas.DataFrame.tail.html) y [`describe`](https://pandas.pydata.org/pandas-docs/stable/generated/pandas.DataFrame.describe.html)"
      ]
    },
    {
      "cell_type": "code",
      "metadata": {
        "id": "gHH97pq6TvGe",
        "colab_type": "code",
        "colab": {
          "base_uri": "https://localhost:8080/",
          "height": 294
        },
        "outputId": "db59eff0-5187-47ca-f119-3d01f0d4c165"
      },
      "source": [
        "df1.describe()  # retorna estadísticos de los datos"
      ],
      "execution_count": 18,
      "outputs": [
        {
          "output_type": "execute_result",
          "data": {
            "text/html": [
              "<div>\n",
              "<style scoped>\n",
              "    .dataframe tbody tr th:only-of-type {\n",
              "        vertical-align: middle;\n",
              "    }\n",
              "\n",
              "    .dataframe tbody tr th {\n",
              "        vertical-align: top;\n",
              "    }\n",
              "\n",
              "    .dataframe thead th {\n",
              "        text-align: right;\n",
              "    }\n",
              "</style>\n",
              "<table border=\"1\" class=\"dataframe\">\n",
              "  <thead>\n",
              "    <tr style=\"text-align: right;\">\n",
              "      <th></th>\n",
              "      <th>a</th>\n",
              "      <th>b</th>\n",
              "      <th>c</th>\n",
              "      <th>d</th>\n",
              "      <th>e</th>\n",
              "    </tr>\n",
              "  </thead>\n",
              "  <tbody>\n",
              "    <tr>\n",
              "      <th>count</th>\n",
              "      <td>5.000000</td>\n",
              "      <td>5.000000</td>\n",
              "      <td>5.000000</td>\n",
              "      <td>5.000000</td>\n",
              "      <td>5.000000</td>\n",
              "    </tr>\n",
              "    <tr>\n",
              "      <th>mean</th>\n",
              "      <td>4.200000</td>\n",
              "      <td>4.000000</td>\n",
              "      <td>4.200000</td>\n",
              "      <td>3.800000</td>\n",
              "      <td>5.200000</td>\n",
              "    </tr>\n",
              "    <tr>\n",
              "      <th>std</th>\n",
              "      <td>2.683282</td>\n",
              "      <td>2.345208</td>\n",
              "      <td>1.923538</td>\n",
              "      <td>2.387467</td>\n",
              "      <td>2.774887</td>\n",
              "    </tr>\n",
              "    <tr>\n",
              "      <th>min</th>\n",
              "      <td>2.000000</td>\n",
              "      <td>0.000000</td>\n",
              "      <td>2.000000</td>\n",
              "      <td>1.000000</td>\n",
              "      <td>2.000000</td>\n",
              "    </tr>\n",
              "    <tr>\n",
              "      <th>25%</th>\n",
              "      <td>2.000000</td>\n",
              "      <td>4.000000</td>\n",
              "      <td>3.000000</td>\n",
              "      <td>2.000000</td>\n",
              "      <td>4.000000</td>\n",
              "    </tr>\n",
              "    <tr>\n",
              "      <th>50%</th>\n",
              "      <td>3.000000</td>\n",
              "      <td>5.000000</td>\n",
              "      <td>4.000000</td>\n",
              "      <td>4.000000</td>\n",
              "      <td>4.000000</td>\n",
              "    </tr>\n",
              "    <tr>\n",
              "      <th>75%</th>\n",
              "      <td>6.000000</td>\n",
              "      <td>5.000000</td>\n",
              "      <td>5.000000</td>\n",
              "      <td>5.000000</td>\n",
              "      <td>7.000000</td>\n",
              "    </tr>\n",
              "    <tr>\n",
              "      <th>max</th>\n",
              "      <td>8.000000</td>\n",
              "      <td>6.000000</td>\n",
              "      <td>7.000000</td>\n",
              "      <td>7.000000</td>\n",
              "      <td>9.000000</td>\n",
              "    </tr>\n",
              "  </tbody>\n",
              "</table>\n",
              "</div>"
            ],
            "text/plain": [
              "              a         b         c         d         e\n",
              "count  5.000000  5.000000  5.000000  5.000000  5.000000\n",
              "mean   4.200000  4.000000  4.200000  3.800000  5.200000\n",
              "std    2.683282  2.345208  1.923538  2.387467  2.774887\n",
              "min    2.000000  0.000000  2.000000  1.000000  2.000000\n",
              "25%    2.000000  4.000000  3.000000  2.000000  4.000000\n",
              "50%    3.000000  5.000000  4.000000  4.000000  4.000000\n",
              "75%    6.000000  5.000000  5.000000  5.000000  7.000000\n",
              "max    8.000000  6.000000  7.000000  7.000000  9.000000"
            ]
          },
          "metadata": {
            "tags": []
          },
          "execution_count": 18
        }
      ]
    },
    {
      "cell_type": "markdown",
      "metadata": {
        "id": "ZCQFmC5HTvGi",
        "colab_type": "text"
      },
      "source": [
        "***\n",
        "# 3. Selección de datos de estructuras"
      ]
    },
    {
      "cell_type": "markdown",
      "metadata": {
        "id": "i9PDOdlMTvGj",
        "colab_type": "text"
      },
      "source": [
        "Las selecciones que se han hecho hasta este momento son simples, pero Pandas permite **mucho** más en este ámbito. En esta sección se mostrarán algunas formas convenientes de seleccionar datos en `DataFrames`. No se cubrirán formas más avanzadas que las ya vistas para seleccionar datos de series, pues usualmente no se necesitan (y siempre pueden buscarse en la documentación).\n",
        "\n",
        "Para obtener un conocimiento más profundo de esta sección, refiérase a [esta guía](https://pandas.pydata.org/pandas-docs/stable/indexing.html). Contiene, además, información sobre cómo modificar datos de una selección, usualmente con el operador de asignación (*i.e.* `=`)"
      ]
    },
    {
      "cell_type": "markdown",
      "metadata": {
        "id": "lWdjkL4MTvGk",
        "colab_type": "text"
      },
      "source": [
        "## 3.1 Selección por secuencia/serie booleana\n",
        "\n",
        "Este tipo de selección **es uno de los más fundamentales**, pues muchos más funcionan usando la misma lógica. \n",
        "Para seleccionar de esta manera, se provee a la *property* `loc` una secuencia de valores verdaderos o falsos."
      ]
    },
    {
      "cell_type": "code",
      "metadata": {
        "id": "afg0zDsXTvGl",
        "colab_type": "code",
        "colab": {
          "base_uri": "https://localhost:8080/",
          "height": 141
        },
        "outputId": "14a6c679-cf72-4056-cf8c-0c33725530a1"
      },
      "source": [
        "df1.loc[[True, False, True, True, False]]"
      ],
      "execution_count": 19,
      "outputs": [
        {
          "output_type": "execute_result",
          "data": {
            "text/html": [
              "<div>\n",
              "<style scoped>\n",
              "    .dataframe tbody tr th:only-of-type {\n",
              "        vertical-align: middle;\n",
              "    }\n",
              "\n",
              "    .dataframe tbody tr th {\n",
              "        vertical-align: top;\n",
              "    }\n",
              "\n",
              "    .dataframe thead th {\n",
              "        text-align: right;\n",
              "    }\n",
              "</style>\n",
              "<table border=\"1\" class=\"dataframe\">\n",
              "  <thead>\n",
              "    <tr style=\"text-align: right;\">\n",
              "      <th></th>\n",
              "      <th>a</th>\n",
              "      <th>b</th>\n",
              "      <th>c</th>\n",
              "      <th>d</th>\n",
              "      <th>e</th>\n",
              "    </tr>\n",
              "  </thead>\n",
              "  <tbody>\n",
              "    <tr>\n",
              "      <th>68</th>\n",
              "      <td>8</td>\n",
              "      <td>6</td>\n",
              "      <td>5</td>\n",
              "      <td>5</td>\n",
              "      <td>7</td>\n",
              "    </tr>\n",
              "    <tr>\n",
              "      <th>-4</th>\n",
              "      <td>2</td>\n",
              "      <td>4</td>\n",
              "      <td>7</td>\n",
              "      <td>2</td>\n",
              "      <td>2</td>\n",
              "    </tr>\n",
              "    <tr>\n",
              "      <th>u</th>\n",
              "      <td>3</td>\n",
              "      <td>5</td>\n",
              "      <td>4</td>\n",
              "      <td>1</td>\n",
              "      <td>4</td>\n",
              "    </tr>\n",
              "  </tbody>\n",
              "</table>\n",
              "</div>"
            ],
            "text/plain": [
              "    a  b  c  d  e\n",
              "68  8  6  5  5  7\n",
              "-4  2  4  7  2  2\n",
              "u   3  5  4  1  4"
            ]
          },
          "metadata": {
            "tags": []
          },
          "execution_count": 19
        }
      ]
    },
    {
      "cell_type": "markdown",
      "metadata": {
        "id": "SNGa-fZvTvGo",
        "colab_type": "text"
      },
      "source": [
        "____\n",
        "### **Importante**\n",
        "Lo que sucede aquí es que **la secuencia booleana se alinea con las filas del DataFrame**, en orden, y aquellas filas que se hayan alineado con un valor booleano verdadero son las filas que estarán en la selección.\n",
        "****"
      ]
    },
    {
      "cell_type": "markdown",
      "metadata": {
        "id": "aiwvQ4a-TvGp",
        "colab_type": "text"
      },
      "source": [
        "### 3.1.1 Operaciones que retornan una secuencia booleana\n",
        "\n",
        "Existen formas de generar secuencias booleanas con operadores que actúan sobre las estructuras de datos de Pandas. Estas secuencias, al ser alineadas con la misma estructura de datos con `loc`, retornan los datos de la estructura que cumplan con la condición del operador."
      ]
    },
    {
      "cell_type": "code",
      "metadata": {
        "id": "whjw-FonTvGq",
        "colab_type": "code",
        "colab": {
          "base_uri": "https://localhost:8080/",
          "height": 87
        },
        "outputId": "88df4e29-4ad3-4569-c72e-c19f24657e85"
      },
      "source": [
        "bool_seq = df0['C1'] < 3\n",
        "bool_seq"
      ],
      "execution_count": 20,
      "outputs": [
        {
          "output_type": "execute_result",
          "data": {
            "text/plain": [
              "0     True\n",
              "1     True\n",
              "2    False\n",
              "Name: C1, dtype: bool"
            ]
          },
          "metadata": {
            "tags": []
          },
          "execution_count": 20
        }
      ]
    },
    {
      "cell_type": "markdown",
      "metadata": {
        "id": "twCCYfYBTvGt",
        "colab_type": "text"
      },
      "source": [
        "`bool_seq` es una serie de valores booleanos que al ser alineados con las filas de `df0` con `loc`, hacen que `loc` retorne un nuevo *DataFrame* solo con las filas de `df0` cuyos valores de la columna `C1` que sean menores que 3."
      ]
    },
    {
      "cell_type": "code",
      "metadata": {
        "id": "_hW4zAPkTvGt",
        "colab_type": "code",
        "colab": {
          "base_uri": "https://localhost:8080/",
          "height": 110
        },
        "outputId": "8a3a1658-8699-42b2-8cf9-5a28f8a6e484"
      },
      "source": [
        "df0.loc[bool_seq]"
      ],
      "execution_count": 21,
      "outputs": [
        {
          "output_type": "execute_result",
          "data": {
            "text/html": [
              "<div>\n",
              "<style scoped>\n",
              "    .dataframe tbody tr th:only-of-type {\n",
              "        vertical-align: middle;\n",
              "    }\n",
              "\n",
              "    .dataframe tbody tr th {\n",
              "        vertical-align: top;\n",
              "    }\n",
              "\n",
              "    .dataframe thead th {\n",
              "        text-align: right;\n",
              "    }\n",
              "</style>\n",
              "<table border=\"1\" class=\"dataframe\">\n",
              "  <thead>\n",
              "    <tr style=\"text-align: right;\">\n",
              "      <th></th>\n",
              "      <th>C1</th>\n",
              "      <th>C2</th>\n",
              "      <th>C3</th>\n",
              "    </tr>\n",
              "  </thead>\n",
              "  <tbody>\n",
              "    <tr>\n",
              "      <th>0</th>\n",
              "      <td>1.0</td>\n",
              "      <td>42</td>\n",
              "      <td>69</td>\n",
              "    </tr>\n",
              "    <tr>\n",
              "      <th>1</th>\n",
              "      <td>2.0</td>\n",
              "      <td>42</td>\n",
              "      <td>el mundo digital</td>\n",
              "    </tr>\n",
              "  </tbody>\n",
              "</table>\n",
              "</div>"
            ],
            "text/plain": [
              "    C1  C2                C3\n",
              "0  1.0  42                69\n",
              "1  2.0  42  el mundo digital"
            ]
          },
          "metadata": {
            "tags": []
          },
          "execution_count": 21
        }
      ]
    },
    {
      "cell_type": "markdown",
      "metadata": {
        "id": "rTvF4VSxTvGy",
        "colab_type": "text"
      },
      "source": [
        "Otro ejemplo de lo mismo, pero en una misma línea, usando más operadores y filtrando columnas:"
      ]
    },
    {
      "cell_type": "code",
      "metadata": {
        "id": "UR5tXdEgTvGz",
        "colab_type": "code",
        "colab": {
          "base_uri": "https://localhost:8080/",
          "height": 171
        },
        "outputId": "b11e9bf9-b83e-4dad-b039-fa71f195af3c"
      },
      "source": [
        "df1.loc[~((df1['a'] < 3) & (df1['e'] >= 3)), ['c', 'e', 'b']] # ~ es not; & es and"
      ],
      "execution_count": 22,
      "outputs": [
        {
          "output_type": "execute_result",
          "data": {
            "text/html": [
              "<div>\n",
              "<style scoped>\n",
              "    .dataframe tbody tr th:only-of-type {\n",
              "        vertical-align: middle;\n",
              "    }\n",
              "\n",
              "    .dataframe tbody tr th {\n",
              "        vertical-align: top;\n",
              "    }\n",
              "\n",
              "    .dataframe thead th {\n",
              "        text-align: right;\n",
              "    }\n",
              "</style>\n",
              "<table border=\"1\" class=\"dataframe\">\n",
              "  <thead>\n",
              "    <tr style=\"text-align: right;\">\n",
              "      <th></th>\n",
              "      <th>c</th>\n",
              "      <th>e</th>\n",
              "      <th>b</th>\n",
              "    </tr>\n",
              "  </thead>\n",
              "  <tbody>\n",
              "    <tr>\n",
              "      <th>68</th>\n",
              "      <td>5</td>\n",
              "      <td>7</td>\n",
              "      <td>6</td>\n",
              "    </tr>\n",
              "    <tr>\n",
              "      <th>-4</th>\n",
              "      <td>7</td>\n",
              "      <td>2</td>\n",
              "      <td>4</td>\n",
              "    </tr>\n",
              "    <tr>\n",
              "      <th>u</th>\n",
              "      <td>4</td>\n",
              "      <td>4</td>\n",
              "      <td>5</td>\n",
              "    </tr>\n",
              "    <tr>\n",
              "      <th>vw</th>\n",
              "      <td>3</td>\n",
              "      <td>9</td>\n",
              "      <td>0</td>\n",
              "    </tr>\n",
              "  </tbody>\n",
              "</table>\n",
              "</div>"
            ],
            "text/plain": [
              "    c  e  b\n",
              "68  5  7  6\n",
              "-4  7  2  4\n",
              "u   4  4  5\n",
              "vw  3  9  0"
            ]
          },
          "metadata": {
            "tags": []
          },
          "execution_count": 22
        }
      ]
    },
    {
      "cell_type": "markdown",
      "metadata": {
        "id": "ZlZMnH7iTvG1",
        "colab_type": "text"
      },
      "source": [
        "***\n",
        "# 4. Importación de datos desde archivos\n",
        "\n",
        "Para llevar datos desde archivos en formatos *csv* o *JSON*, Pandas provee métodos muy convenientes: [`read_csv`](https://pandas.pydata.org/pandas-docs/stable/generated/pandas.read_csv.html) y [`read_json`](https://pandas.pydata.org/pandas-docs/stable/generated/pandas.read_json.html).\n",
        "Se usarán en las siguientes partes de la ayudantía."
      ]
    },
    {
      "cell_type": "markdown",
      "metadata": {
        "id": "03GM9YrOTvG1",
        "colab_type": "text"
      },
      "source": [
        "***\n",
        "# 5. Asignación de valores a subconjuntos de datos\n",
        "\n",
        "La documentación oficial de este tema está distribuída en varios documentos y hay muchas maneras de abordarlo y de realizar las mismas asignaciones, por esto es recomendable leer [esta guía](https://medium.com/dunder-data/selecting-subsets-of-data-in-pandas-part-3-d5704b4b9116).\n",
        "\n",
        "Sin embargo, la asignación de valores usualmente se hace sobre selecciones y usando el operador de asignación (`=`), por lo que se puede (en teoría) asignar valores a selecciones sin leer la guía anterior, pero no es recomendable."
      ]
    },
    {
      "cell_type": "markdown",
      "metadata": {
        "id": "uDZcNRoMTvG2",
        "colab_type": "text"
      },
      "source": [
        "***\n",
        "# 6. Agregación de datos\n",
        "\n",
        "Muchas veces se necesita agrupar los datos de alguna forma. Pandas es especialmente útil para hacer esto. Por ejemplo, se puede calcular el promedio de las columnas o de las filas."
      ]
    },
    {
      "cell_type": "code",
      "metadata": {
        "id": "m8wKtZsyTvG2",
        "colab_type": "code",
        "colab": {
          "base_uri": "https://localhost:8080/",
          "height": 121
        },
        "outputId": "8e65473b-0a64-490b-b710-40e2c2601dbd"
      },
      "source": [
        "df1.mean(axis='index')  # promedio de columnas (sí, columnas)"
      ],
      "execution_count": 23,
      "outputs": [
        {
          "output_type": "execute_result",
          "data": {
            "text/plain": [
              "a    4.2\n",
              "b    4.0\n",
              "c    4.2\n",
              "d    3.8\n",
              "e    5.2\n",
              "dtype: float64"
            ]
          },
          "metadata": {
            "tags": []
          },
          "execution_count": 23
        }
      ]
    },
    {
      "cell_type": "code",
      "metadata": {
        "id": "ljEzhAYyTvG5",
        "colab_type": "code",
        "colab": {
          "base_uri": "https://localhost:8080/",
          "height": 121
        },
        "outputId": "10c4c46d-4888-4c4d-ba7c-1e603f227e0c"
      },
      "source": [
        "df1.mean(axis='columns')  # promedio de filas (sí, filas)"
      ],
      "execution_count": 24,
      "outputs": [
        {
          "output_type": "execute_result",
          "data": {
            "text/plain": [
              "68     6.2\n",
              "102    3.4\n",
              "-4     3.4\n",
              "u      3.4\n",
              "vw     5.0\n",
              "dtype: float64"
            ]
          },
          "metadata": {
            "tags": []
          },
          "execution_count": 24
        }
      ]
    },
    {
      "cell_type": "markdown",
      "metadata": {
        "id": "QsR8EOW7TvG7",
        "colab_type": "text"
      },
      "source": [
        "Hay muchas funciones como esta y siempre se pueden buscar cuando se necesiten. \n",
        "\n",
        "Respecto a los *axes*, `axis='index'` significa que la operación es ejecutada en la dimensión en la que cambian los índices (al pasar de una fila a otra, los índices cambian) la operación *aplasta* las filas. `axis='columns'` es lo contrario, se *aplastan* las columnas.\n",
        "\n",
        "Para más información sobre aplicar operaciones de agregación arbitrarias, refiérase a [estos métodos](https://pandas.pydata.org/pandas-docs/stable/basics.html#function-application)"
      ]
    },
    {
      "cell_type": "markdown",
      "metadata": {
        "id": "Mto6TDRnTvG8",
        "colab_type": "text"
      },
      "source": [
        "***\n",
        "# Más información\n",
        "\n",
        "Para más detalles e información **rápidos**, [este torpedo de Pandas](https://github.com/pandas-dev/pandas/blob/master/doc/cheatsheet/Pandas_Cheat_Sheet.pdf) es de mucha utilidad. Cubre las tareas más comunes que se pueden hacer con Pandas.\n",
        "\n",
        "Además existe [este *cookbook*](https://pandas.pydata.org/pandas-docs/stable/cookbook.html#cookbook) que es más extenso que el torpedo, pero contiene casos de uso **explicados** de Pandas."
      ]
    }
  ]
}