{
  "nbformat": 4,
  "nbformat_minor": 0,
  "metadata": {
    "colab": {
      "name": "parte3_machine_learning.ipynb",
      "version": "0.3.2",
      "provenance": [],
      "include_colab_link": true
    },
    "kernelspec": {
      "display_name": "Python 3",
      "language": "python",
      "name": "python3"
    },
    "language_info": {
      "codemirror_mode": {
        "name": "ipython",
        "version": 3
      },
      "file_extension": ".py",
      "mimetype": "text/x-python",
      "name": "python",
      "nbconvert_exporter": "python",
      "pygments_lexer": "ipython3",
      "version": "3.7.3"
    }
  },
  "cells": [
    {
      "cell_type": "markdown",
      "metadata": {
        "id": "view-in-github",
        "colab_type": "text"
      },
      "source": [
        "<a href=\"https://colab.research.google.com/github/PUC-Infovis/syllabus-2019/blob/master/ayudantias/ayudantia00/parte3_machine_learning.ipynb\" target=\"_parent\"><img src=\"https://colab.research.google.com/assets/colab-badge.svg\" alt=\"Open In Colab\"/></a>"
      ]
    },
    {
      "cell_type": "markdown",
      "metadata": {
        "colab_type": "text",
        "id": "g76s0JpGZsm8"
      },
      "source": [
        "# **Ayudantía 00 || Parte 3: *Machine Learning*** \n",
        "### Por Vicente Valencia"
      ]
    },
    {
      "cell_type": "markdown",
      "metadata": {
        "colab_type": "text",
        "id": "1X3ysgTbZsnA"
      },
      "source": [
        "---\n",
        "#### Nota\n",
        "\n",
        "Cualquier librería que les falte, instálenla (a menos que estén en Colaboratory). Las que se usan en este notebook son:\n",
        "- scikit learn\n",
        "- pandas\n",
        "- numpy\n",
        "- graphviz. Esta librería deben [instalarla](https://graphviz.gitlab.io/download/) y ponerla en su [path](https://en.wikipedia.org/wiki/PATH_(variable))\n",
        "- seaborn\n",
        "---"
      ]
    },
    {
      "cell_type": "markdown",
      "metadata": {
        "colab_type": "text",
        "id": "mpXTGj6LfVM5"
      },
      "source": [
        "En Colab, hay que descargar los datasets"
      ]
    },
    {
      "cell_type": "code",
      "metadata": {
        "colab_type": "code",
        "id": "J5BEXlXQaLi-",
        "colab": {}
      },
      "source": [
        "%%shell\n",
        "base=\"https://raw.githubusercontent.com/PUC-Infovis/syllabus-2019/master/ayudantias/ayudantia00\"\n",
        "wget ${base}/datasets/machine.csv\n",
        "wget ${base}/datasets/flags/flag.csv\n",
        "wget ${base}/datasets/flags/flag-cat-cols.csv\n",
        "wget ${base}/datasets/flags/flag-columns.csv"
      ],
      "execution_count": 0,
      "outputs": []
    },
    {
      "cell_type": "markdown",
      "metadata": {
        "colab_type": "text",
        "id": "qqVvxAQhZsnD"
      },
      "source": [
        "## ¿Qué es *Machine Learning*?\n",
        "\n",
        "*Machine Learning* o aprendizaje de máquina es el estudio científico de algoritmos y modelos estadísticos que los sistemas computacionales usan para realizar una tarea específica eficazmente sin usar instrucciones explícitas, apoyándose, en cambio, en patrones e inferencia. Es visto como un subconjunto de la inteligencia artificial. [Wikipedia](https://en.wikipedia.org/wiki/Machine_learning)\n",
        "\n",
        "Para entender mejor lo que es machine learning y lo que abarca, es recomendable leer [este artículo](https://towardsdatascience.com/machine-learning-for-beginners-d247a9420dab).\n",
        "\n",
        "También el material mostrado en clases sobre árboles de decisión lo pueden encontrar [aquí](http://www.r2d3.us/una-introduccion-visual-al-machine-learning-1/)"
      ]
    },
    {
      "cell_type": "markdown",
      "metadata": {
        "colab_type": "text",
        "id": "qfLrWsx9ZsnF"
      },
      "source": [
        "## ¿Por qué estudiar aprendizaje de máquina en un curso de visualización?\n",
        "\n",
        "El aprendizaje de máquina es tan poderoso y ubicuo que es muy probable que se topen, o hayan topado, con visualizaciones de estudios y aplicaciones interesantes de él. Visualizar conceptos o resultados de aprendizaje de máquina es una habilidad que es muy deseable, pues, incluso si no se está interesado en el aprendizaje de máquina, no toda persona que hace machine learning sabrá visualizar de buena manera lo que haga y, teniendo un conocimiento superficial del aprendizaje de máquina, se puede entender mucho de lo que esa persona tenga que visualizar, pudiendo trabajar con ella para exponer de buena manera las ideas que tenga.\n",
        "\n",
        "En resumen, uno puede saber mucho de visualización, pero si no se entiende lo que hay que visualizar (que es hoy en gran medida información de *machine learning*), uno limita los campos en los que puede aplicar su conocimiento.\n",
        "\n",
        "No es necesidad para este curso entender modelos de aprendizaje en particular, pero sí conceptos generales, que deberían poder adquirir en esta ayudantía.\n",
        "\n",
        "Si ya estás familiarizado con el aprendizaje de máquina, esta guía podría ser muy básica para ti, por lo que podrías leerla rápidamente, pero si encuentras algo nuevo, es recomendable que la hagas.\n",
        "\n",
        "Ahora, a empezar..."
      ]
    },
    {
      "cell_type": "markdown",
      "metadata": {
        "colab_type": "text",
        "id": "tinSlNaZZsnI"
      },
      "source": [
        "## Conceptos importantes\n",
        "\n",
        "- **Tipos de aprendizaje**: supervisado, no supervisado y reforzado\n",
        "        \n",
        "- **supervisado** se refiere al aprendizaje que requiere de etiquetas o clases para poder aprender. Es decir, le entregamos los datos y el resultado al que deben llegar.\n",
        "\n",
        "- **no supervisado** se refiere al aprendizaje donde no se le entrega la clase. Es decir, solo le entregamos los datos y el modelo solo aprende a como separarlo bajo ciertos criterios.\n",
        "        \n",
        "En la siguiente imagen se muestra una forma visual de entender la diferencia entre estos 2 tipos de aprendizajes. En el primero se le entregan manzanas y le decimos que son manzanas, luego le preguntamos ¿qué es lo nuevo entregado? y este respodende: \"es una manzana\". En cambio, el segundo se le entrega todo y el modelo aprenderá un patrón para separar las clases.\n",
        "\n",
        "![image](https://user-images.githubusercontent.com/15641721/62631285-7b384500-b8fe-11e9-8100-8ade7baa578f.png)\n",
        "\n",
        "\n",
        "- **reforzado** esta es otra forma de aprendizaje pero que no abordaremos en esta ayudantía. Solo se comentó para que sepan de su existencia.\n",
        "        \n",
        "- **Necesidad, meta o problema**: ¿qué se quiere lograr? Clasificar, predecir, agrupar, etc.\n",
        "- **Datos**: ¿qué información se necesita para alcanzar la meta? Esto dependerá del dominio en cuestión. Pueden ser datos de cualquier cosa, siempre que tengan relación con el objetivo del problema.\n",
        "- **Modelo**: ¿cómo se deberían usar los datos para alcanzar la meta? Cada modelo tiene su manera de lograr realizar la tarea que se quiera realizar.\n",
        "- **Entrenamiento**: como en el aprendizaje de máquina no hay instrucciones directas para realizar una tarea, los modelos necesitan guiarse por los datos para \"extraer conocimiento\" desde ellos, en vez de del programador.\n",
        "- **Evaluación de desempeño**: los modelos no son perfectos, pero sí hay algunos mejores que otros (dependiendo de la situación), por lo que es deseable saber cuán buenos son. En el aprendizaje supervisado, que es el que se verá en esta ayudantía (en su mayor parte), la evaluación de desempeño se hace, generalmente, dividiendo los datos en conjuntos de entrenamiento y evaluación, como veremos en lo que sigue.\n",
        "- ***Overfitting*** o sobre-entrenamiento: existen circunstancias en las que un modelo funciona mucho mejor cuando se prueba con los datos con los que fue entrenado que cuando se prueba con los datos de prueba (que no ha \"visto\" jamás), esto se llama sobre-entrenamiento. A menudo se dice que cuando un modelo se ha sobre-entrenenado, se ha aprendido lo datos \"de memoria\". No se profundiza en este concepto en esta ayudantía, pero es importante en machine learning."
      ]
    },
    {
      "cell_type": "markdown",
      "metadata": {
        "colab_type": "text",
        "id": "TecmnYnoZsnK"
      },
      "source": [
        "## Modelo: Regresión Lineal\n",
        "\n",
        "### Descripción\n",
        "La **regresión** lineal es un método de aprendizaje de máquina supervisado que permite modelar una relación lineal (en versiones más complicadas de regresión no solo se buscan relaciones lineales) entre datos. Por ejemplo, se podría querer encontrar una relación entre la superficie de un departamento con su precio. La regresión lineal tomaría datos de varios departamentos con la información de su superficie y de su precio y computaría una recta en su fase de entrenamiento. Esta recta sería una función de la superficie y su dominio sería los precios de los departamentos. De esta manera, se pueden predecir precios para departamentos con superficies que no estaban en los datos.\n",
        "\n",
        "La regresión lineal en su versión más simple puede resolverse analíticamente con el método de mínimos cuadrados ordinarios. Esto quizás lo hayan visto en algún curso. También se puede resolver con inferencia estadística, pero lo más importante es que siempre **se busca una recta** (o hiperplano) **que esté lo más cercana posible a todos los puntos** como en la siguiente figura (https://towardsdatascience.com/linear-regression-the-easier-way-6f941aa471ea). "
      ]
    },
    {
      "cell_type": "markdown",
      "metadata": {
        "colab_type": "text",
        "id": "jkJv5_WBZsnM"
      },
      "source": [
        "![](https://github.com/PUC-Infovis/syllabus-2019/blob/master/ayudantias/ayudantia00/images/linear_regression.gif?raw=1)"
      ]
    },
    {
      "cell_type": "markdown",
      "metadata": {
        "colab_type": "text",
        "id": "J2uR7MesZsnP"
      },
      "source": [
        "Si desean adentrarse más en cómo funciona la regresión lineal, lean [este artículo](https://medium.com/@jorgeabud/linear-regression-method-explained-with-animations-ff7d7da60749), que explica el método con animaciones."
      ]
    },
    {
      "cell_type": "markdown",
      "metadata": {
        "colab_type": "text",
        "id": "6ecxk4u0ZsnR"
      },
      "source": [
        "### Ejemplo\n",
        "El archivo *machines.csv* es un [dataset](https://archive.ics.uci.edu/ml/datasets/Computer+Hardware) con información sobre CPUs (procesadores). Los detalles de la estructura de los datos los pueden ver en el link apenas anterior y en el archivo *machine-names.txt*.\n",
        "\n",
        "Imaginen que se quiere determinar el desempeño relativo de un procesador. Este desempeño se mide, en este caso, en porcentajes mayores a cero. Por ejemplo, un procesador con desempeño relativo de 117% significa que tal procesador es 1.17 veces mejor que el procesador de referencia (el procesador de referencia lo pueden buscar en la página del *dataset* o pueden ignorar cuál es, pues solo importa, en esta ayudantía, saber que existe)"
      ]
    },
    {
      "cell_type": "code",
      "metadata": {
        "colab_type": "code",
        "id": "XPeMJU2iZsnT",
        "colab": {}
      },
      "source": [
        "import pandas as pd"
      ],
      "execution_count": 0,
      "outputs": []
    },
    {
      "cell_type": "markdown",
      "metadata": {
        "colab_type": "text",
        "id": "NwyM4gLWZsnd"
      },
      "source": [
        "En este caso, el archivo de los datos no tiene los nombres de las columnas, por lo que hay que tomar ello en cuenta al leer el archivo con el parámetro `names`. Nótese que el desempeño a predecir es el llamado `published-performance`. Esta columna contiene, entonces, las etiquetas o *labels* de nuestro problema (lo que lo hace ser de aprendizaje supervisado), equivalentemente a los precios de los departamentos del ejemplo anterior. Las demás columnas, excepto una, tomarán el mismo rol de las superficies de los departamentos (sí, la regresión lineal se puede hacer con más variables. Lo que resulta no es una recta, sino un hiperplano), siendo características de cada procesador que se usarán para predecir la etiqueta o desempeño.\n",
        "\n",
        "La columna que no usaremos será la columna `estimated-performance`, pues esta indica el desempeño que estimaron científicos en un estudio y sería poco realista usarla, pues tendríamos algo cercano a la respuesta."
      ]
    },
    {
      "cell_type": "code",
      "metadata": {
        "colab_type": "code",
        "id": "mUvoo6olZsnf",
        "colab": {}
      },
      "source": [
        "names = ['vendor',\n",
        "         'model',\n",
        "         'cycle-time',\n",
        "         'mem-min',\n",
        "         'mem-max',\n",
        "         'cache',\n",
        "         'channel-min',\n",
        "         'channel-max',\n",
        "         'published-performace',\n",
        "         'estimated-performance']\n",
        "processors = pd.read_csv('machine.csv', names=names)\n",
        "processors.head()  # head entrega el principio del archivo"
      ],
      "execution_count": 0,
      "outputs": []
    },
    {
      "cell_type": "markdown",
      "metadata": {
        "colab_type": "text",
        "id": "OLNnaebdZsnn"
      },
      "source": [
        "Como había dicho, no es necesario que entiendan a fondo cómo funciona cada modelo. Existe una librería llamada [scikit-learn](https://scikit-learn.org/stable/) que posee implementaciones de muchos modelos de machine learning, incluyendo [una de regresión lineal](https://scikit-learn.org/stable/modules/generated/sklearn.linear_model.LinearRegression.html).\n",
        "\n",
        "Se puede usar como sigue"
      ]
    },
    {
      "cell_type": "code",
      "metadata": {
        "colab_type": "code",
        "id": "5K4aJVBzZsnp",
        "colab": {}
      },
      "source": [
        "from sklearn.linear_model import LinearRegression\n",
        "\n",
        "# crear una instancia de la clase LinearRegression\n",
        "reg = LinearRegression()"
      ],
      "execution_count": 0,
      "outputs": []
    },
    {
      "cell_type": "markdown",
      "metadata": {
        "colab_type": "text",
        "id": "RqdN84DGZsnt"
      },
      "source": [
        "Para poder entregarle los datos al modelo para entrenarlo, debemos separarlos (porque así lo requiere la función que se los entrega)"
      ]
    },
    {
      "cell_type": "code",
      "metadata": {
        "colab_type": "code",
        "id": "js7egZkhZsnu",
        "colab": {}
      },
      "source": [
        "X = processors.iloc[:,:-2]  # todas las columnas menos las dos últimas. Todas las filas\n",
        "X.head()"
      ],
      "execution_count": 0,
      "outputs": []
    },
    {
      "cell_type": "code",
      "metadata": {
        "colab_type": "code",
        "id": "SdPAz4V-Zsny",
        "colab": {}
      },
      "source": [
        "y = processors['published-performace']  # solo la columna estimated-performance\n",
        "y.head()"
      ],
      "execution_count": 0,
      "outputs": []
    },
    {
      "cell_type": "markdown",
      "metadata": {
        "colab_type": "text",
        "id": "SS0QVtqhZsn5"
      },
      "source": [
        "Además, hay que separar los datos en conjuntos de entrenamiento y de prueba, para luego poder evaluar el desempeño del modelo en los datos de prueba. Para dividir los datos, se puede usar la función `train_test_split`, también de la librería scikit-learn"
      ]
    },
    {
      "cell_type": "code",
      "metadata": {
        "colab_type": "code",
        "id": "A-6uNMY1Zsn6",
        "colab": {}
      },
      "source": [
        "from sklearn.model_selection import train_test_split\n",
        "\n",
        "# dejamos un cuarto del dataset para evaluación\n",
        "X_train, X_test, y_train, y_test = train_test_split(X, y, test_size=0.25, random_state=42)"
      ],
      "execution_count": 0,
      "outputs": []
    },
    {
      "cell_type": "markdown",
      "metadata": {
        "colab_type": "text",
        "id": "R988vrfTZsn_"
      },
      "source": [
        "Ahora sí se puede entrenar el modelo. Esto se hace con el método `fit`"
      ]
    },
    {
      "cell_type": "code",
      "metadata": {
        "colab_type": "code",
        "id": "E68tlIY9ZsoB",
        "colab": {}
      },
      "source": [
        "reg.fit(X_train, y_train)"
      ],
      "execution_count": 0,
      "outputs": []
    },
    {
      "cell_type": "markdown",
      "metadata": {
        "colab_type": "text",
        "id": "oEHRUpf3ZsoF"
      },
      "source": [
        "¡Oh!, al parecer no se puede entrenar. Hay un problema con los datos. La regresión solo puede usar datos numéricos, pero hay columnas en nuestro *dataset* que no lo son.\n",
        "\n",
        "Para solucionar esto, se pueden hacer muchas cosas. Una de ellas sería simplemente no usar esas columnas para hacer la regresión y otra sería convertir cada nombre en un número. Por su simplicidad, haremos la primera."
      ]
    },
    {
      "cell_type": "code",
      "metadata": {
        "colab_type": "code",
        "id": "WDjDpzb7ZsoG",
        "colab": {}
      },
      "source": [
        "X = processors.iloc[:,2:-2] # nos deshacemos de las primeras dos columnas"
      ],
      "execution_count": 0,
      "outputs": []
    },
    {
      "cell_type": "markdown",
      "metadata": {
        "colab_type": "text",
        "id": "UHY7Ok81ZsoJ"
      },
      "source": [
        "Repitiendo..."
      ]
    },
    {
      "cell_type": "code",
      "metadata": {
        "colab_type": "code",
        "id": "tX77z08NZsoK",
        "colab": {}
      },
      "source": [
        "X_train, X_test, y_train, y_test = train_test_split(X, y, test_size=0.25, random_state=42)\n",
        "reg.fit(X_train, y_train)"
      ],
      "execution_count": 0,
      "outputs": []
    },
    {
      "cell_type": "markdown",
      "metadata": {
        "colab_type": "text",
        "id": "bRnEdEZkZsoM"
      },
      "source": [
        "Hemos entrenado el modelo de regresión. ¿Cómo funcionará? Tomemos un procesador del conjunto de prueba y predigamos su desempeño."
      ]
    },
    {
      "cell_type": "code",
      "metadata": {
        "colab_type": "code",
        "id": "Ip2AWwh0ZsoN",
        "colab": {}
      },
      "source": [
        "one_x_test = X_test.sample(1, random_state=42)\n",
        "one_x_test"
      ],
      "execution_count": 0,
      "outputs": []
    },
    {
      "cell_type": "code",
      "metadata": {
        "colab_type": "code",
        "id": "m8HJyjJsZsoQ",
        "colab": {}
      },
      "source": [
        "one_y_test = y_test.loc[one_x_test.index]\n",
        "one_y_test"
      ],
      "execution_count": 0,
      "outputs": []
    },
    {
      "cell_type": "code",
      "metadata": {
        "colab_type": "code",
        "id": "xhpHGrA0ZsoS",
        "colab": {}
      },
      "source": [
        "reg.predict(one_x_test)"
      ],
      "execution_count": 0,
      "outputs": []
    },
    {
      "cell_type": "code",
      "metadata": {
        "colab_type": "code",
        "id": "O1PRjv_wZsoW",
        "colab": {}
      },
      "source": [
        "prediction = reg.predict(X_test)  # las predicciones de los datos de prueba\n",
        "prediction"
      ],
      "execution_count": 0,
      "outputs": []
    },
    {
      "cell_type": "markdown",
      "metadata": {
        "colab_type": "text",
        "id": "fP4_fI-BZsoV"
      },
      "source": [
        "Hmmmm, ok, se equivocó (¿por mucho? ¿por poco?), pero no podemos concluir mucho con este resultado, pues es solo una prueba. Por suerte, podemos pasarle al método `predict` todos los datos de prueba de una vez y hacer que nos resuma cuán bien predijo usando [el coeficiente de determinación](https://scikit-learn.org/stable/modules/generated/sklearn.linear_model.LinearRegression.html#sklearn.linear_model.LinearRegression.score) de la predicción."
      ]
    },
    {
      "cell_type": "code",
      "metadata": {
        "colab_type": "code",
        "id": "q8qCy2DHZsoY",
        "colab": {}
      },
      "source": [
        "reg.score(X_test, y_test)"
      ],
      "execution_count": 0,
      "outputs": []
    },
    {
      "cell_type": "markdown",
      "metadata": {
        "colab_type": "text",
        "id": "x9LNpEtTZsob"
      },
      "source": [
        "Este valor es bueno, pues el coeficiente de determinación puede ser a lo más uno, el que es el mejor valor posible (*i.e.* indica que las predicciones fueron todas correctas)."
      ]
    },
    {
      "cell_type": "markdown",
      "metadata": {
        "colab_type": "text",
        "id": "j4h4xxV0Zsoc"
      },
      "source": [
        "### Visualización\n",
        "\n",
        "Algunas formas de visualizar la regresión son [estas](https://stats.stackexchange.com/questions/89747/how-to-describe-or-visualize-a-multiple-linear-regression-model), pero son algo complicadas, pues hay más de una variable predictora. Puede hacer usted mismo una regresión simple con solo una variable predictora y usar el código de matplotlib dado para graficar la recta, que debería verse como [esta](https://scikit-learn.org/stable/auto_examples/linear_model/plot_ols.html#sphx-glr-auto-examples-linear-model-plot-ols-py)."
      ]
    },
    {
      "cell_type": "markdown",
      "metadata": {
        "colab_type": "text",
        "id": "JevdcT8wZsod"
      },
      "source": [
        "![](https://github.com/PUC-Infovis/syllabus-2019/blob/master/ayudantias/ayudantia00/images/linear_regression_goal.png?raw=1)"
      ]
    },
    {
      "cell_type": "markdown",
      "metadata": {
        "id": "IgLGVXb-knJJ",
        "colab_type": "text"
      },
      "source": [
        "Ahora, solo usando el atributo `cycle-time` como variable predictora, haga una regresión lineal que prediga el `published performance` para un set de prueba y grafique tal set de prueba junto con la recta de regresión, puede basarse en el siguiente código pre-hecho con matplotlib."
      ]
    },
    {
      "cell_type": "code",
      "metadata": {
        "colab_type": "code",
        "id": "1Z08k2QTZsog",
        "colab": {}
      },
      "source": [
        "# Aquí escriba su código para entrenar con una sola variable predictora"
      ],
      "execution_count": 0,
      "outputs": []
    },
    {
      "cell_type": "code",
      "metadata": {
        "colab_type": "code",
        "id": "7dyGdetYZsok",
        "colab": {}
      },
      "source": [
        "# reemplaze sus datos (x_test, y_test y prediction). La celda arrojará un error si no lo hace\n",
        "import matplotlib.pyplot as plt\n",
        "\n",
        "plt.scatter(x_test, y_test,  color='black')\n",
        "plt.plot(x_test, prediction, color='blue')\n",
        "\n",
        "plt.xticks(())\n",
        "plt.yticks(())\n",
        "\n",
        "plt.show()"
      ],
      "execution_count": 0,
      "outputs": []
    },
    {
      "cell_type": "markdown",
      "metadata": {
        "colab_type": "text",
        "id": "QNZdgqaiZson"
      },
      "source": [
        "## Modelo de clasificación: Árbol de decisión"
      ]
    },
    {
      "cell_type": "markdown",
      "metadata": {
        "colab_type": "text",
        "id": "svVd_m7EZson"
      },
      "source": [
        "Este modelo de **clasificación** también es de aprendizaje supervisado y es uno de los más intuitivos, pues transparentan sus decisiones de clasificación y pueden visualizarse fácilmente. Inviertan 20 minutos en [este artículo](https://medium.com/greyatom/decision-trees-a-simple-way-to-visualize-a-decision-dc506a403aeb).\n",
        "\n",
        "En la regresión lineal tratamos de predecir un porcentaje, que es un valor continuo del 0 al infinito (porque es porcentaje relativo), pero ¿si quisiéramos clasificar algo con alguna clase de un grupo finito de clases, por ejemplo, clasificar un animal dentro de las categorías o clases *gato*, *perro*, *tardígrado*? Un algoritmo de clasificación, como un árbol de decisión, viene bien en este caso."
      ]
    },
    {
      "cell_type": "markdown",
      "metadata": {
        "colab_type": "text",
        "id": "wtL4r_C6Zsoo"
      },
      "source": [
        "Para este ejemplo, usaremos [este *dataset*](https://archive.ics.uci.edu/ml/datasets/Flags) de banderas. Nuevamente se puede aprender más sobre él en el vínculo (pues algunos atributos están codificados con números, por ejemplo, el idioma o la religión). Vamos a predecir la religión del país de la bandera, pero se podría tratar de predecir algo como el continente, también."
      ]
    },
    {
      "cell_type": "markdown",
      "metadata": {
        "colab_type": "text",
        "id": "d_ihve0WZsop"
      },
      "source": [
        "Los nombres de las columnas de este *dataset* son muchos más que en el anterior, por esto, los escribí en un archivo aparte llamado flag-columns.csv"
      ]
    },
    {
      "cell_type": "code",
      "metadata": {
        "colab_type": "code",
        "id": "AvBcXSmFZsoq",
        "colab": {}
      },
      "source": [
        "names = pd.read_csv('flag-columns.csv', header=None, squeeze=True)"
      ],
      "execution_count": 0,
      "outputs": []
    },
    {
      "cell_type": "markdown",
      "metadata": {
        "colab_type": "text",
        "id": "maZvJJRWZsos"
      },
      "source": [
        "Leamos los datos de banderas"
      ]
    },
    {
      "cell_type": "code",
      "metadata": {
        "colab_type": "code",
        "id": "lCL3Lr9uZsos",
        "colab": {}
      },
      "source": [
        "flags = pd.read_csv('flag.csv', names=names)\n",
        "flags.head()"
      ],
      "execution_count": 0,
      "outputs": []
    },
    {
      "cell_type": "markdown",
      "metadata": {
        "colab_type": "text",
        "id": "C9UwOetcZsou"
      },
      "source": [
        "Ahora debemos hacer algo un poco turbio. Resulta que la implementación de los árboles de decisión de scikit-learn no funciona con *strings*, por lo que debemos convertirlos en números. Como si esto fuera poco, esta implementación no funciona (no arroja errores, pero no funciona bien en el entrenamiento o formación del árbol) con datos categóricos no binarios y no ordinales, aunque estos estén codificados en números. Para hacerla funcionar con este tipo de datos, se deben codificar, los datos, en una codificación que se llama [*one-hot encoding*](https://medium.com/@michaeldelsole/what-is-one-hot-encoding-and-how-to-do-it-f0ae272f1179). Si quieren saber más sobre por qué hay que hacer esto, vean [esta respuesta](https://stackoverflow.com/a/56857255) en stackoverflow.\n",
        "\n",
        "Después de codificar los atributos categóricos no binarios y no ordinales a *one-hot*, cada uno de ellos se dividirá en tantos atributos como valores posibles haya tenido el atributo original. Por ejemplo, si el atributo idioma tuviera tres valores posibles: inglés, español e italiano, el atributo se dividiría en los siguientes tres atributos: idioma_inglés, idioma_español e idioma_italiano. De esta manera, cada atributo tendría naturaleza binaria (1 si el atributo está presente y 0 si no)."
      ]
    },
    {
      "cell_type": "code",
      "metadata": {
        "colab_type": "code",
        "id": "ecUERyXNZsov",
        "colab": {}
      },
      "source": [
        "X = flags.loc[:,flags.columns != 'religion']\n",
        "\n",
        "# one hot encoding. scikit learn no soporta \n",
        "# atributos categóricos en árboles de decisión\n",
        "# https://stackoverflow.com/a/56857255\n",
        "cat_cols = pd.read_csv('flag-cat-cols.csv', squeeze=True, header=None)\n",
        "cat_cols_no_religion = cat_cols.loc[cat_cols != 'religion']\n",
        "one_hot = pd.get_dummies(X, drop_first=True, columns=cat_cols_no_religion)\n",
        "\n",
        "y = flags['religion']\n",
        "X_train, X_test, y_train, y_test = train_test_split(one_hot, y, test_size=0.4, random_state=100)"
      ],
      "execution_count": 0,
      "outputs": []
    },
    {
      "cell_type": "markdown",
      "metadata": {
        "colab_type": "text",
        "id": "4s6ZOzduZsow"
      },
      "source": [
        "Ahora entrenemos con los datos codificados. La visualización del árbol se guardará en un PDF."
      ]
    },
    {
      "cell_type": "code",
      "metadata": {
        "colab_type": "code",
        "id": "Ukf-744hZsox",
        "colab": {}
      },
      "source": [
        "from sklearn import tree\n",
        "import graphviz\n",
        "from IPython.display import Image\n",
        "\n",
        "\n",
        "# entrenamos el árbol y lo graficamos en un pdf con graphviz\n",
        "t = tree.DecisionTreeClassifier()\n",
        "t.fit(X_train, y_train)\n",
        "dot_data = tree.export_graphviz(\n",
        "    t,\n",
        "    out_file=None,\n",
        "    feature_names=one_hot.columns,\n",
        "    class_names=['Catholic',\n",
        "                 'Other Christian',\n",
        "                 'Muslim',\n",
        "                 'Buddhist',\n",
        "                 'Hindu',\n",
        "                 'Ethnic (?)',\n",
        "                 'Marxist (?)',\n",
        "                 'Other'],\n",
        "    filled=True,\n",
        "    rounded=True,\n",
        "    special_characters=True\n",
        ")\n",
        "graphviz.Source(dot_data).render('decision-tree', format='png')\n",
        "Image(\"decision-tree.png\", unconfined=True)"
      ],
      "execution_count": 0,
      "outputs": []
    },
    {
      "cell_type": "markdown",
      "metadata": {
        "colab_type": "text",
        "id": "GIWO56MHZso1"
      },
      "source": [
        "De la visualización se pueden desprender muchas cosas. Una es que, aparentemente, algo más determinante en la religión de un país no tiene mucho que ver con su bandera, sino con cosas como su idioma o ubicación. Noten, por ejemplo, que el primer nodo verifica si el idioma hablado por el país de la bandera es árabe (el idioma 8, véanse los detalles del *dataset*). Si es, entonces el árbol clasifica la bandera (o el país) con la religión del Islam.\n",
        "\n",
        "También pueden notar que no todos los *datasets* son muy correctos. Este, por ejemplo, tiene religiones marxistas y étnicas. Habría que justificar muy bien el por qué de la existencia de estas etiquetas."
      ]
    },
    {
      "cell_type": "markdown",
      "metadata": {
        "colab_type": "text",
        "id": "x4LeE8CYZso2"
      },
      "source": [
        "Para evaluar el árbol, usen el set de prueba y el método predict y score como lo usamos en regresión. Clasificamos los datos de prueba..."
      ]
    },
    {
      "cell_type": "code",
      "metadata": {
        "colab_type": "code",
        "id": "t8zZUIzFZso3",
        "colab": {}
      },
      "source": [
        "predictions = t.predict(X_test)\n",
        "predictions"
      ],
      "execution_count": 0,
      "outputs": []
    },
    {
      "cell_type": "markdown",
      "metadata": {
        "id": "2cGRT7ehoRrm",
        "colab_type": "text"
      },
      "source": [
        "Evaluamos la clasificacion con [accuracy](https://developers.google.com/machine-learning/crash-course/classification/accuracy). Si es cero no acertó en ninguna clasificación, si es uno acertó en todas. Es la proporcion de aciertos."
      ]
    },
    {
      "cell_type": "code",
      "metadata": {
        "colab_type": "code",
        "id": "n9_ys9ZzZso6",
        "colab": {}
      },
      "source": [
        "t.score(X_test, y_test)"
      ],
      "execution_count": 0,
      "outputs": []
    },
    {
      "cell_type": "markdown",
      "metadata": {
        "id": "s5jjvosIpgB7",
        "colab_type": "text"
      },
      "source": [
        "La [matriz de confusión](https://en.wikipedia.org/wiki/Confusion_matrix), indica, por cada categoría, cómo clasificó los ejemplos (datos) de cada categoría y, si se equivocó, qué categoría erronea asignó (cómo se confundió)."
      ]
    },
    {
      "cell_type": "code",
      "metadata": {
        "colab_type": "code",
        "id": "R2Oh22CBZso8",
        "colab": {}
      },
      "source": [
        "from sklearn import metrics\n",
        "\n",
        "conf_mat = metrics.confusion_matrix(y_test, predictions)\n",
        "conf_mat"
      ],
      "execution_count": 0,
      "outputs": []
    },
    {
      "cell_type": "markdown",
      "metadata": {
        "id": "Nyi5t9-ZqNr0",
        "colab_type": "text"
      },
      "source": [
        "¿Podemos verla de forma más bonita?"
      ]
    },
    {
      "cell_type": "code",
      "metadata": {
        "colab_type": "code",
        "id": "oKBYnGQuZspA",
        "colab": {}
      },
      "source": [
        "import seaborn as sns\n",
        "import matplotlib.pyplot as plt"
      ],
      "execution_count": 0,
      "outputs": []
    },
    {
      "cell_type": "code",
      "metadata": {
        "colab_type": "code",
        "id": "bsNR_ImTZspB",
        "colab": {}
      },
      "source": [
        "sns.heatmap(conf_mat, annot=True, cbar=False, square=True)\n",
        "plt.xlabel('predicted value')\n",
        "plt.ylabel('true value');"
      ],
      "execution_count": 0,
      "outputs": []
    },
    {
      "cell_type": "markdown",
      "metadata": {
        "id": "Y3mLGop2o2Cf",
        "colab_type": "text"
      },
      "source": [
        "Ahora veamos las métricas [*precision y recall*](https://en.wikipedia.org/wiki/Precision_and_recall), que son métricas que indican aspectos distintos de la clasificación.\n"
      ]
    },
    {
      "cell_type": "code",
      "metadata": {
        "colab_type": "code",
        "id": "QoHnw2ziZso-",
        "colab": {}
      },
      "source": [
        "print(metrics.classification_report(y_test, predictions))"
      ],
      "execution_count": 0,
      "outputs": []
    }
  ]
}