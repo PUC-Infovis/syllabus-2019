{
  "nbformat": 4,
  "nbformat_minor": 0,
  "metadata": {
    "kernelspec": {
      "display_name": "Python 3",
      "language": "python",
      "name": "python3"
    },
    "language_info": {
      "codemirror_mode": {
        "name": "ipython",
        "version": 3
      },
      "file_extension": ".py",
      "mimetype": "text/x-python",
      "name": "python",
      "nbconvert_exporter": "python",
      "pygments_lexer": "ipython3",
      "version": "3.7.4"
    },
    "colab": {
      "name": "parte3_machine_learning.ipynb",
      "version": "0.3.2",
      "provenance": [],
      "include_colab_link": true
    }
  },
  "cells": [
    {
      "cell_type": "markdown",
      "metadata": {
        "id": "view-in-github",
        "colab_type": "text"
      },
      "source": [
        "<a href=\"https://colab.research.google.com/github/PUC-Infovis/syllabus-2019/blob/master/testdir1/testdir2/parte3_machine_learning.ipynb\" target=\"_parent\"><img src=\"https://colab.research.google.com/assets/colab-badge.svg\" alt=\"Open In Colab\"/></a>"
      ]
    },
    {
      "cell_type": "markdown",
      "metadata": {
        "id": "FBcCMIKzA6z0",
        "colab_type": "text"
      },
      "source": [
        "# **Ayudantía 00 || Parte 3: *Machine Learning*** \n",
        "### Por Vicente Valencia"
      ]
    },
    {
      "cell_type": "markdown",
      "metadata": {
        "id": "SS59oa2rA6z2",
        "colab_type": "text"
      },
      "source": [
        "---\n",
        "#### Nota\n",
        "\n",
        "Cualquier librería que les falte, instálenla. Las que se usan en este notebook son:\n",
        "- scikit learn\n",
        "- pandas\n",
        "- numpy\n",
        "- graphviz. Esta librería deben [instalarla](https://graphviz.gitlab.io/download/) y ponerla en su [path](https://en.wikipedia.org/wiki/PATH_(variable))\n",
        "- seaborn\n",
        "---"
      ]
    },
    {
      "cell_type": "markdown",
      "metadata": {
        "id": "aIauO_jCA6z3",
        "colab_type": "text"
      },
      "source": [
        "## ¿Qué es *Machine Learning*?\n",
        "\n",
        "*Machine Learning* o aprendizaje de máquina es el estudio científico de algoritmos y modelos estadísticos que los sistemas computacionales usan para realizar una tarea específica eficazmente sin usar instrucciones explícitas, apoyándose, en cambio, en patrones e inferencia. Es visto como un subconjunto de la inteligencia artificial. [Wikipedia](https://en.wikipedia.org/wiki/Machine_learning)\n",
        "\n",
        "Para entender mejor lo que es machine learning y lo que abarca, es recomendable leer [este artículo](https://towardsdatascience.com/machine-learning-for-beginners-d247a9420dab)."
      ]
    },
    {
      "cell_type": "markdown",
      "metadata": {
        "id": "R5pg9opuA6z4",
        "colab_type": "text"
      },
      "source": [
        "## ¿Por qué estudiar aprendizaje de máquina en un curso de visualización?\n",
        "\n",
        "El aprendizaje de máquina es tan poderoso y ubicuo que es muy probable que se topen, o hayan topado, con visualizaciones de estudios y aplicaciones interesantes de él. Visualizar conceptos o resultados de aprendizaje de máquina es una habilidad que es muy deseable, pues, incluso si no se está interesado en el aprendizaje de máquina, no toda persona que hace machine learning sabrá visualizar de buena manera lo que haga y, teniendo un conocimiento superficial del aprendizaje de máquina, se puede entender mucho de lo que esa persona tenga que visualizar, pudiendo trabajar con ella para exponer de buena manera las ideas que tenga.\n",
        "\n",
        "En resumen, uno puede saber mucho de visualización, pero si no se entiende lo que hay que visualizar (que es hoy en gran medida información de *machine learning*), uno limita los campos en los que puede aplicar su conocimiento.\n",
        "\n",
        "No es necesidad para este curso entender modelos de aprendizaje en particular, pero sí conceptos generales, que deberían poder adquirir en esta ayudantía.\n",
        "\n",
        "Si ya estás familiarizado con el aprendizaje de máquina, esta guía podría ser muy básica para ti, por lo que podrías leerla rápidamente, pero si encuentras algo nuevo, es recomendable que la hagas.\n",
        "\n",
        "Ahora, a empezar..."
      ]
    },
    {
      "cell_type": "markdown",
      "metadata": {
        "id": "wB3kwAP5A6z5",
        "colab_type": "text"
      },
      "source": [
        "## Conceptos importantes\n",
        "\n",
        "- **Tipos de aprendizaje**: supervisado, no supervisado y reforzado\n",
        "- **Necesidad, meta o problema**: ¿qué se quiere lograr? Clasificar, predecir, agrupar, etc.\n",
        "- **Datos**: ¿qué información se necesita para alcanzar la meta? Esto dependerá del dominio en cuestión. Pueden ser datos de cualquier cosa, siempre que tengan relación con el objetivo del problema.\n",
        "- **Modelo**: ¿cómo se deberían usar los datos para alcanzar la meta? Cada modelo tiene su manera de lograr realizar la tarea que se quiera realizar.\n",
        "- **Entrenamiento**: como en el aprendizaje de máquina no hay instrucciones directas para realizar una tarea, los modelos necesitan guiarse por los datos para \"extraer conocimiento\" desde ellos, en vez de del programador.\n",
        "- **Evaluación de desempeño**: los modelos no son perfectos, pero sí hay algunos mejores que otros (dependiendo de la situación), por lo que es deseable saber cuán buenos son. En el aprendizaje supervisado, que es el que se verá en esta ayudantía (en su mayor parte), la evaluación de desempeño se hace, generalmente, dividiendo los datos en conjuntos de entrenamiento y evaluación, como veremos en lo que sigue.\n",
        "- ***Overfitting*** o sobre-entrenamiento: existen circunstancias en las que un modelo funciona mucho mejor cuando se prueba con los datos con los que fue entrenado que cuando se prueba con los datos de prueba (que no ha \"visto\" jamás), esto se llama sobre-entrenamiento. A menudo se dice que cuando un modelo se ha sobre-entrenenado, se ha aprendido lo datos \"de memoria\". No se profundiza en este concepto en esta ayudantía, pero es importante en machine learning."
      ]
    },
    {
      "cell_type": "markdown",
      "metadata": {
        "id": "e0BboKX5A6z6",
        "colab_type": "text"
      },
      "source": [
        "## Modelo: Regresión Lineal\n",
        "\n",
        "### Descripción\n",
        "La **regresión** lineal es un método de aprendizaje de máquina supervisado que permite modelar una relación lineal (en versiones más complicadas de regresión no solo se buscan relaciones lineales) entre datos. Por ejemplo, se podría querer encontrar una relación entre la superficie de un departamento con su precio. La regresión lineal tomaría datos de varios departamentos con la información de su superficie y de su precio y computaría una recta en su fase de entrenamiento. Esta recta sería una función de la superficie y su dominio sería los precios de los departamentos. De esta manera, se pueden predecir precios para departamentos con superficies que no estaban en los datos.\n",
        "\n",
        "La regresión lineal en su versión más simple puede resolverse analíticamente con el método de mínimos cuadrados ordinarios. Esto quizás lo hayan visto en algún curso. También se puede resolver con inferencia estadística, pero lo más importante es que siempre **se busca una recta** (o hiperplano) **que esté lo más cercana posible a todos los puntos** como en la siguiente figura (https://towardsdatascience.com/linear-regression-the-easier-way-6f941aa471ea). "
      ]
    },
    {
      "cell_type": "markdown",
      "metadata": {
        "colab_type": "text",
        "id": "0Wq0k6JjBCGI"
      },
      "source": [
        "![]('images/linear_regression.gif)"
      ]
    },
    {
      "cell_type": "markdown",
      "metadata": {
        "id": "4jEQSzTgA6z8",
        "colab_type": "text"
      },
      "source": [
        "Si desean adentrarse más en cómo funciona la regresión lineal, lean [este artículo](https://medium.com/@jorgeabud/linear-regression-method-explained-with-animations-ff7d7da60749), que explica el método con animaciones."
      ]
    },
    {
      "cell_type": "markdown",
      "metadata": {
        "id": "9CO5_01yA6z9",
        "colab_type": "text"
      },
      "source": [
        "### Ejemplo\n",
        "El archivo *machines.csv* es un [dataset](https://archive.ics.uci.edu/ml/datasets/Computer+Hardware) con información sobre CPUs (procesadores). Los detalles de la estructura de los datos los pueden ver en el link apenas anterior y en el archivo *machine-names.txt*.\n",
        "\n",
        "Imaginen que se quiere determinar el desempeño relativo de un procesador. Este desempeño se mide, en este caso, en porcentajes mayores a cero. Por ejemplo, un procesador con desempeño relativo de 117% significa que tal procesador es 1.17 veces mejor que el procesador de referencia (el procesador de referencia lo pueden buscar en la página del *dataset* o pueden ignorar cuál es, pues solo importa, en esta ayudantía, saber que existe)"
      ]
    },
    {
      "cell_type": "code",
      "metadata": {
        "id": "il6NIouZMLfd",
        "colab_type": "code",
        "colab": {
          "base_uri": "https://localhost:8080/",
          "height": 451
        },
        "outputId": "95ae8d66-083b-4386-a759-aefc2b14c8e0"
      },
      "source": [
        "!wget --recursive https://github.com/VinceValence/PUC-InfoVis-2019-A00/tree/master/datasets"
      ],
      "execution_count": 3,
      "outputs": [
        {
          "output_type": "stream",
          "text": [
            "--2019-08-07 03:49:22--  https://github.com/VinceValence/PUC-InfoVis-2019-A00/tree/master/datasets\n",
            "Resolving github.com (github.com)... 140.82.114.3\n",
            "Connecting to github.com (github.com)|140.82.114.3|:443... connected.\n",
            "HTTP request sent, awaiting response... 200 OK\n",
            "Length: unspecified [text/html]\n",
            "Saving to: ‘github.com/VinceValence/PUC-InfoVis-2019-A00/tree/master/datasets’\n",
            "\n",
            "\r          github.co     [<=>                 ]       0  --.-KB/s               \rgithub.com/VinceVal     [ <=>                ]  57.05K  --.-KB/s    in 0.03s   \n",
            "\n",
            "2019-08-07 03:49:22 (2.17 MB/s) - ‘github.com/VinceValence/PUC-InfoVis-2019-A00/tree/master/datasets’ saved [58419]\n",
            "\n",
            "Loading robots.txt; please ignore errors.\n",
            "--2019-08-07 03:49:22--  https://github.com/robots.txt\n",
            "Reusing existing connection to github.com:443.\n",
            "HTTP request sent, awaiting response... 200 OK\n",
            "Length: 31710 (31K) [text/plain]\n",
            "Saving to: ‘github.com/robots.txt’\n",
            "\n",
            "\rgithub.com/robots.t   0%[                    ]       0  --.-KB/s               \rgithub.com/robots.t 100%[===================>]  30.97K  --.-KB/s    in 0s      \n",
            "\n",
            "2019-08-07 03:49:22 (91.4 MB/s) - ‘github.com/robots.txt’ saved [31710/31710]\n",
            "\n",
            "FINISHED --2019-08-07 03:49:22--\n",
            "Total wall clock time: 0.2s\n",
            "Downloaded: 2 files, 88K in 0.03s (3.30 MB/s)\n"
          ],
          "name": "stdout"
        }
      ]
    },
    {
      "cell_type": "code",
      "metadata": {
        "id": "B-pHdu0EMoUQ",
        "colab_type": "code",
        "colab": {
          "base_uri": "https://localhost:8080/",
          "height": 35
        },
        "outputId": "5599432e-3630-4a7d-9cbe-583b1f6aba0f"
      },
      "source": [
        ""
      ],
      "execution_count": 12,
      "outputs": [
        {
          "output_type": "stream",
          "text": [
            "ls: cannot access 'github.com/VinceValence/PUC-InfoVis-2019-A00/tree/master/datasets/': Not a directory\n"
          ],
          "name": "stdout"
        }
      ]
    },
    {
      "cell_type": "code",
      "metadata": {
        "id": "7jT3ypuAA6z-",
        "colab_type": "code",
        "colab": {}
      },
      "source": [
        "import pandas as pd"
      ],
      "execution_count": 0,
      "outputs": []
    },
    {
      "cell_type": "markdown",
      "metadata": {
        "id": "xZuZYhMMA60C",
        "colab_type": "text"
      },
      "source": [
        "En este caso, el archivo de los datos no tiene los nombres de las columnas, por lo que hay que tomar ello en cuenta al leer el archivo con el parámetro `names`. Nótese que el desempeño a predecir es el llamado `published-performance`. Esta columna contiene, entonces, las etiquetas o *labels* de nuestro problema (lo que lo hace ser de aprendizaje supervisado), equivalentemente a los precios de los departamentos del ejemplo anterior. Las demás columnas, excepto una, tomarán el mismo rol de las superficies de los departamentos (sí, la regresión lineal se puede hacer con más variables. Lo que resulta no es una recta, sino un hiperplano), siendo características de cada procesador que se usarán para predecir la etiqueta o desempeño.\n",
        "\n",
        "La columna que no usaremos será la columna `estimated-performance`, pues esta indica el desempeño que estimaron científicos en un estudio y sería poco realista usarla, pues tendríamos algo cercano a la respuesta."
      ]
    },
    {
      "cell_type": "code",
      "metadata": {
        "id": "vRqUF86pA60D",
        "colab_type": "code",
        "outputId": "7bab2a17-cebf-45b4-d8a5-574dc71bd9a8",
        "colab": {}
      },
      "source": [
        "names = ['vendor',\n",
        "         'model',\n",
        "         'cycle-time',\n",
        "         'mem-min',\n",
        "         'mem-max',\n",
        "         'cache',\n",
        "         'channel-min',\n",
        "         'channel-max',\n",
        "         'published-performace',\n",
        "         'estimated-performance']\n",
        "processors = pd.read_csv('datasets/machine.csv', names=names)\n",
        "processors.head()  # head entrega el principio del archivo"
      ],
      "execution_count": 0,
      "outputs": [
        {
          "output_type": "execute_result",
          "data": {
            "text/html": [
              "<div>\n",
              "<style scoped>\n",
              "    .dataframe tbody tr th:only-of-type {\n",
              "        vertical-align: middle;\n",
              "    }\n",
              "\n",
              "    .dataframe tbody tr th {\n",
              "        vertical-align: top;\n",
              "    }\n",
              "\n",
              "    .dataframe thead th {\n",
              "        text-align: right;\n",
              "    }\n",
              "</style>\n",
              "<table border=\"1\" class=\"dataframe\">\n",
              "  <thead>\n",
              "    <tr style=\"text-align: right;\">\n",
              "      <th></th>\n",
              "      <th>vendor</th>\n",
              "      <th>model</th>\n",
              "      <th>cycle-time</th>\n",
              "      <th>mem-min</th>\n",
              "      <th>mem-max</th>\n",
              "      <th>cache</th>\n",
              "      <th>channel-min</th>\n",
              "      <th>channel-max</th>\n",
              "      <th>published-performace</th>\n",
              "      <th>estimated-performance</th>\n",
              "    </tr>\n",
              "  </thead>\n",
              "  <tbody>\n",
              "    <tr>\n",
              "      <th>0</th>\n",
              "      <td>adviser</td>\n",
              "      <td>32/60</td>\n",
              "      <td>125</td>\n",
              "      <td>256</td>\n",
              "      <td>6000</td>\n",
              "      <td>256</td>\n",
              "      <td>16</td>\n",
              "      <td>128</td>\n",
              "      <td>198</td>\n",
              "      <td>199</td>\n",
              "    </tr>\n",
              "    <tr>\n",
              "      <th>1</th>\n",
              "      <td>amdahl</td>\n",
              "      <td>470v/7</td>\n",
              "      <td>29</td>\n",
              "      <td>8000</td>\n",
              "      <td>32000</td>\n",
              "      <td>32</td>\n",
              "      <td>8</td>\n",
              "      <td>32</td>\n",
              "      <td>269</td>\n",
              "      <td>253</td>\n",
              "    </tr>\n",
              "    <tr>\n",
              "      <th>2</th>\n",
              "      <td>amdahl</td>\n",
              "      <td>470v/7a</td>\n",
              "      <td>29</td>\n",
              "      <td>8000</td>\n",
              "      <td>32000</td>\n",
              "      <td>32</td>\n",
              "      <td>8</td>\n",
              "      <td>32</td>\n",
              "      <td>220</td>\n",
              "      <td>253</td>\n",
              "    </tr>\n",
              "    <tr>\n",
              "      <th>3</th>\n",
              "      <td>amdahl</td>\n",
              "      <td>470v/7b</td>\n",
              "      <td>29</td>\n",
              "      <td>8000</td>\n",
              "      <td>32000</td>\n",
              "      <td>32</td>\n",
              "      <td>8</td>\n",
              "      <td>32</td>\n",
              "      <td>172</td>\n",
              "      <td>253</td>\n",
              "    </tr>\n",
              "    <tr>\n",
              "      <th>4</th>\n",
              "      <td>amdahl</td>\n",
              "      <td>470v/7c</td>\n",
              "      <td>29</td>\n",
              "      <td>8000</td>\n",
              "      <td>16000</td>\n",
              "      <td>32</td>\n",
              "      <td>8</td>\n",
              "      <td>16</td>\n",
              "      <td>132</td>\n",
              "      <td>132</td>\n",
              "    </tr>\n",
              "  </tbody>\n",
              "</table>\n",
              "</div>"
            ],
            "text/plain": [
              "    vendor    model  cycle-time  mem-min  mem-max  cache  channel-min  \\\n",
              "0  adviser    32/60         125      256     6000    256           16   \n",
              "1   amdahl   470v/7          29     8000    32000     32            8   \n",
              "2   amdahl  470v/7a          29     8000    32000     32            8   \n",
              "3   amdahl  470v/7b          29     8000    32000     32            8   \n",
              "4   amdahl  470v/7c          29     8000    16000     32            8   \n",
              "\n",
              "   channel-max  published-performace  estimated-performance  \n",
              "0          128                   198                    199  \n",
              "1           32                   269                    253  \n",
              "2           32                   220                    253  \n",
              "3           32                   172                    253  \n",
              "4           16                   132                    132  "
            ]
          },
          "metadata": {
            "tags": []
          },
          "execution_count": 4
        }
      ]
    },
    {
      "cell_type": "markdown",
      "metadata": {
        "id": "4aODLGGwA60I",
        "colab_type": "text"
      },
      "source": [
        "Como había dicho, no es necesario que entiendan a fondo cómo funciona cada modelo. Existe una librería llamada [scikit-learn](https://scikit-learn.org/stable/) que posee implementaciones de muchos modelos de machine learning, incluyendo [una de regresión lineal](https://scikit-learn.org/stable/modules/generated/sklearn.linear_model.LinearRegression.html).\n",
        "\n",
        "Se puede usar como sigue"
      ]
    },
    {
      "cell_type": "code",
      "metadata": {
        "id": "ceVjY0L0A60J",
        "colab_type": "code",
        "colab": {}
      },
      "source": [
        "from sklearn.linear_model import LinearRegression\n",
        "\n",
        "# crear una instancia de la clase LinearRegression\n",
        "reg = LinearRegression()"
      ],
      "execution_count": 0,
      "outputs": []
    },
    {
      "cell_type": "markdown",
      "metadata": {
        "id": "MGU0IIlDA60L",
        "colab_type": "text"
      },
      "source": [
        "Para poder entregarle los datos al modelo para entrenarlo, debemos separarlos (porque así lo requiere la función que se los entrega)"
      ]
    },
    {
      "cell_type": "code",
      "metadata": {
        "id": "p8_Wx4kVA60M",
        "colab_type": "code",
        "outputId": "46428a2c-bd23-496f-d15f-c80a9d9929c3",
        "colab": {}
      },
      "source": [
        "X = processors.iloc[:,:-2]  # todas las columnas menos las dos últimas. Todas las filas\n",
        "X.head()"
      ],
      "execution_count": 0,
      "outputs": [
        {
          "output_type": "execute_result",
          "data": {
            "text/html": [
              "<div>\n",
              "<style scoped>\n",
              "    .dataframe tbody tr th:only-of-type {\n",
              "        vertical-align: middle;\n",
              "    }\n",
              "\n",
              "    .dataframe tbody tr th {\n",
              "        vertical-align: top;\n",
              "    }\n",
              "\n",
              "    .dataframe thead th {\n",
              "        text-align: right;\n",
              "    }\n",
              "</style>\n",
              "<table border=\"1\" class=\"dataframe\">\n",
              "  <thead>\n",
              "    <tr style=\"text-align: right;\">\n",
              "      <th></th>\n",
              "      <th>vendor</th>\n",
              "      <th>model</th>\n",
              "      <th>cycle-time</th>\n",
              "      <th>mem-min</th>\n",
              "      <th>mem-max</th>\n",
              "      <th>cache</th>\n",
              "      <th>channel-min</th>\n",
              "      <th>channel-max</th>\n",
              "    </tr>\n",
              "  </thead>\n",
              "  <tbody>\n",
              "    <tr>\n",
              "      <th>0</th>\n",
              "      <td>adviser</td>\n",
              "      <td>32/60</td>\n",
              "      <td>125</td>\n",
              "      <td>256</td>\n",
              "      <td>6000</td>\n",
              "      <td>256</td>\n",
              "      <td>16</td>\n",
              "      <td>128</td>\n",
              "    </tr>\n",
              "    <tr>\n",
              "      <th>1</th>\n",
              "      <td>amdahl</td>\n",
              "      <td>470v/7</td>\n",
              "      <td>29</td>\n",
              "      <td>8000</td>\n",
              "      <td>32000</td>\n",
              "      <td>32</td>\n",
              "      <td>8</td>\n",
              "      <td>32</td>\n",
              "    </tr>\n",
              "    <tr>\n",
              "      <th>2</th>\n",
              "      <td>amdahl</td>\n",
              "      <td>470v/7a</td>\n",
              "      <td>29</td>\n",
              "      <td>8000</td>\n",
              "      <td>32000</td>\n",
              "      <td>32</td>\n",
              "      <td>8</td>\n",
              "      <td>32</td>\n",
              "    </tr>\n",
              "    <tr>\n",
              "      <th>3</th>\n",
              "      <td>amdahl</td>\n",
              "      <td>470v/7b</td>\n",
              "      <td>29</td>\n",
              "      <td>8000</td>\n",
              "      <td>32000</td>\n",
              "      <td>32</td>\n",
              "      <td>8</td>\n",
              "      <td>32</td>\n",
              "    </tr>\n",
              "    <tr>\n",
              "      <th>4</th>\n",
              "      <td>amdahl</td>\n",
              "      <td>470v/7c</td>\n",
              "      <td>29</td>\n",
              "      <td>8000</td>\n",
              "      <td>16000</td>\n",
              "      <td>32</td>\n",
              "      <td>8</td>\n",
              "      <td>16</td>\n",
              "    </tr>\n",
              "  </tbody>\n",
              "</table>\n",
              "</div>"
            ],
            "text/plain": [
              "    vendor    model  cycle-time  mem-min  mem-max  cache  channel-min  \\\n",
              "0  adviser    32/60         125      256     6000    256           16   \n",
              "1   amdahl   470v/7          29     8000    32000     32            8   \n",
              "2   amdahl  470v/7a          29     8000    32000     32            8   \n",
              "3   amdahl  470v/7b          29     8000    32000     32            8   \n",
              "4   amdahl  470v/7c          29     8000    16000     32            8   \n",
              "\n",
              "   channel-max  \n",
              "0          128  \n",
              "1           32  \n",
              "2           32  \n",
              "3           32  \n",
              "4           16  "
            ]
          },
          "metadata": {
            "tags": []
          },
          "execution_count": 6
        }
      ]
    },
    {
      "cell_type": "code",
      "metadata": {
        "id": "LMQjP30bA60P",
        "colab_type": "code",
        "outputId": "8ac2d2d1-552d-4123-d5b9-9212806a1e21",
        "colab": {}
      },
      "source": [
        "y = processors['published-performace']  # solo la columna estimated-performance\n",
        "y.head()"
      ],
      "execution_count": 0,
      "outputs": [
        {
          "output_type": "execute_result",
          "data": {
            "text/plain": [
              "0    198\n",
              "1    269\n",
              "2    220\n",
              "3    172\n",
              "4    132\n",
              "Name: published-performace, dtype: int64"
            ]
          },
          "metadata": {
            "tags": []
          },
          "execution_count": 7
        }
      ]
    },
    {
      "cell_type": "markdown",
      "metadata": {
        "id": "--YMJEnYA60R",
        "colab_type": "text"
      },
      "source": [
        "Además, hay que separar los datos en conjuntos de entrenamiento y de prueba, para luego poder evaluar el desempeño del modelo en los datos de prueba. Para dividir los datos, se puede usar la función `train_test_split`, también de la librería scikit-learn"
      ]
    },
    {
      "cell_type": "code",
      "metadata": {
        "id": "NZtSAX0sA60S",
        "colab_type": "code",
        "colab": {}
      },
      "source": [
        "from sklearn.model_selection import train_test_split\n",
        "\n",
        "# dejamos un cuarto del dataset para evaluación\n",
        "X_train, X_test, y_train, y_test = train_test_split(X, y, test_size=0.25, random_state=42)"
      ],
      "execution_count": 0,
      "outputs": []
    },
    {
      "cell_type": "markdown",
      "metadata": {
        "id": "-zB64VYiA60V",
        "colab_type": "text"
      },
      "source": [
        "Ahora sí se puede entrenar el modelo. Esto se hace con el método `fit`"
      ]
    },
    {
      "cell_type": "code",
      "metadata": {
        "id": "2xjxKkT_A60W",
        "colab_type": "code",
        "outputId": "8fc6aa18-4dfc-41eb-ab59-20abc0ff831f",
        "colab": {}
      },
      "source": [
        "reg.fit(X_train, y_train)"
      ],
      "execution_count": 0,
      "outputs": [
        {
          "output_type": "error",
          "ename": "ValueError",
          "evalue": "could not convert string to float: 'c.r.d'",
          "traceback": [
            "\u001b[1;31m---------------------------------------------------------------------------\u001b[0m",
            "\u001b[1;31mValueError\u001b[0m                                Traceback (most recent call last)",
            "\u001b[1;32m<ipython-input-9-35dbd23650e6>\u001b[0m in \u001b[0;36m<module>\u001b[1;34m\u001b[0m\n\u001b[1;32m----> 1\u001b[1;33m \u001b[0mreg\u001b[0m\u001b[1;33m.\u001b[0m\u001b[0mfit\u001b[0m\u001b[1;33m(\u001b[0m\u001b[0mX_train\u001b[0m\u001b[1;33m,\u001b[0m \u001b[0my_train\u001b[0m\u001b[1;33m)\u001b[0m\u001b[1;33m\u001b[0m\u001b[1;33m\u001b[0m\u001b[0m\n\u001b[0m",
            "\u001b[1;32mc:\\users\\vmval\\onedrive\\documents\\my-documents\\2019-2\\infovis\\pyvenv\\lib\\site-packages\\sklearn\\linear_model\\base.py\u001b[0m in \u001b[0;36mfit\u001b[1;34m(self, X, y, sample_weight)\u001b[0m\n\u001b[0;32m    461\u001b[0m         \u001b[0mn_jobs_\u001b[0m \u001b[1;33m=\u001b[0m \u001b[0mself\u001b[0m\u001b[1;33m.\u001b[0m\u001b[0mn_jobs\u001b[0m\u001b[1;33m\u001b[0m\u001b[1;33m\u001b[0m\u001b[0m\n\u001b[0;32m    462\u001b[0m         X, y = check_X_y(X, y, accept_sparse=['csr', 'csc', 'coo'],\n\u001b[1;32m--> 463\u001b[1;33m                          y_numeric=True, multi_output=True)\n\u001b[0m\u001b[0;32m    464\u001b[0m \u001b[1;33m\u001b[0m\u001b[0m\n\u001b[0;32m    465\u001b[0m         \u001b[1;32mif\u001b[0m \u001b[0msample_weight\u001b[0m \u001b[1;32mis\u001b[0m \u001b[1;32mnot\u001b[0m \u001b[1;32mNone\u001b[0m \u001b[1;32mand\u001b[0m \u001b[0mnp\u001b[0m\u001b[1;33m.\u001b[0m\u001b[0matleast_1d\u001b[0m\u001b[1;33m(\u001b[0m\u001b[0msample_weight\u001b[0m\u001b[1;33m)\u001b[0m\u001b[1;33m.\u001b[0m\u001b[0mndim\u001b[0m \u001b[1;33m>\u001b[0m \u001b[1;36m1\u001b[0m\u001b[1;33m:\u001b[0m\u001b[1;33m\u001b[0m\u001b[1;33m\u001b[0m\u001b[0m\n",
            "\u001b[1;32mc:\\users\\vmval\\onedrive\\documents\\my-documents\\2019-2\\infovis\\pyvenv\\lib\\site-packages\\sklearn\\utils\\validation.py\u001b[0m in \u001b[0;36mcheck_X_y\u001b[1;34m(X, y, accept_sparse, accept_large_sparse, dtype, order, copy, force_all_finite, ensure_2d, allow_nd, multi_output, ensure_min_samples, ensure_min_features, y_numeric, warn_on_dtype, estimator)\u001b[0m\n\u001b[0;32m    717\u001b[0m                     \u001b[0mensure_min_features\u001b[0m\u001b[1;33m=\u001b[0m\u001b[0mensure_min_features\u001b[0m\u001b[1;33m,\u001b[0m\u001b[1;33m\u001b[0m\u001b[1;33m\u001b[0m\u001b[0m\n\u001b[0;32m    718\u001b[0m                     \u001b[0mwarn_on_dtype\u001b[0m\u001b[1;33m=\u001b[0m\u001b[0mwarn_on_dtype\u001b[0m\u001b[1;33m,\u001b[0m\u001b[1;33m\u001b[0m\u001b[1;33m\u001b[0m\u001b[0m\n\u001b[1;32m--> 719\u001b[1;33m                     estimator=estimator)\n\u001b[0m\u001b[0;32m    720\u001b[0m     \u001b[1;32mif\u001b[0m \u001b[0mmulti_output\u001b[0m\u001b[1;33m:\u001b[0m\u001b[1;33m\u001b[0m\u001b[1;33m\u001b[0m\u001b[0m\n\u001b[0;32m    721\u001b[0m         y = check_array(y, 'csr', force_all_finite=True, ensure_2d=False,\n",
            "\u001b[1;32mc:\\users\\vmval\\onedrive\\documents\\my-documents\\2019-2\\infovis\\pyvenv\\lib\\site-packages\\sklearn\\utils\\validation.py\u001b[0m in \u001b[0;36mcheck_array\u001b[1;34m(array, accept_sparse, accept_large_sparse, dtype, order, copy, force_all_finite, ensure_2d, allow_nd, ensure_min_samples, ensure_min_features, warn_on_dtype, estimator)\u001b[0m\n\u001b[0;32m    534\u001b[0m         \u001b[1;31m# make sure we actually converted to numeric:\u001b[0m\u001b[1;33m\u001b[0m\u001b[1;33m\u001b[0m\u001b[1;33m\u001b[0m\u001b[0m\n\u001b[0;32m    535\u001b[0m         \u001b[1;32mif\u001b[0m \u001b[0mdtype_numeric\u001b[0m \u001b[1;32mand\u001b[0m \u001b[0marray\u001b[0m\u001b[1;33m.\u001b[0m\u001b[0mdtype\u001b[0m\u001b[1;33m.\u001b[0m\u001b[0mkind\u001b[0m \u001b[1;33m==\u001b[0m \u001b[1;34m\"O\"\u001b[0m\u001b[1;33m:\u001b[0m\u001b[1;33m\u001b[0m\u001b[1;33m\u001b[0m\u001b[0m\n\u001b[1;32m--> 536\u001b[1;33m             \u001b[0marray\u001b[0m \u001b[1;33m=\u001b[0m \u001b[0marray\u001b[0m\u001b[1;33m.\u001b[0m\u001b[0mastype\u001b[0m\u001b[1;33m(\u001b[0m\u001b[0mnp\u001b[0m\u001b[1;33m.\u001b[0m\u001b[0mfloat64\u001b[0m\u001b[1;33m)\u001b[0m\u001b[1;33m\u001b[0m\u001b[1;33m\u001b[0m\u001b[0m\n\u001b[0m\u001b[0;32m    537\u001b[0m         \u001b[1;32mif\u001b[0m \u001b[1;32mnot\u001b[0m \u001b[0mallow_nd\u001b[0m \u001b[1;32mand\u001b[0m \u001b[0marray\u001b[0m\u001b[1;33m.\u001b[0m\u001b[0mndim\u001b[0m \u001b[1;33m>=\u001b[0m \u001b[1;36m3\u001b[0m\u001b[1;33m:\u001b[0m\u001b[1;33m\u001b[0m\u001b[1;33m\u001b[0m\u001b[0m\n\u001b[0;32m    538\u001b[0m             raise ValueError(\"Found array with dim %d. %s expected <= 2.\"\n",
            "\u001b[1;31mValueError\u001b[0m: could not convert string to float: 'c.r.d'"
          ]
        }
      ]
    },
    {
      "cell_type": "markdown",
      "metadata": {
        "id": "OBuaDDHBA60Z",
        "colab_type": "text"
      },
      "source": [
        "¡Oh!, al parecer no se puede entrenar. Hay un problema con los datos. La regresión solo puede usar datos numéricos, pero hay columnas en nuestro *dataset* que no lo son.\n",
        "\n",
        "Para solucionar esto, se pueden hacer muchas cosas. Una de ellas sería simplemente no usar esas columnas para hacer la regresión y otra sería convertir cada nombre en un número. Por su simplicidad, haremos la primera."
      ]
    },
    {
      "cell_type": "code",
      "metadata": {
        "id": "JurL8qBqA60a",
        "colab_type": "code",
        "colab": {}
      },
      "source": [
        "X = processors.iloc[:,2:-2] # nos deshacemos de las primeras dos columnas"
      ],
      "execution_count": 0,
      "outputs": []
    },
    {
      "cell_type": "markdown",
      "metadata": {
        "id": "ecPCMQJZA60d",
        "colab_type": "text"
      },
      "source": [
        "Repitiendo..."
      ]
    },
    {
      "cell_type": "code",
      "metadata": {
        "id": "jMDqD75cA60e",
        "colab_type": "code",
        "outputId": "b37481a9-e903-41d9-b6e6-48dc85fa6708",
        "colab": {}
      },
      "source": [
        "X_train, X_test, y_train, y_test = train_test_split(X, y, test_size=0.25, random_state=42)\n",
        "reg.fit(X_train, y_train)"
      ],
      "execution_count": 0,
      "outputs": [
        {
          "output_type": "execute_result",
          "data": {
            "text/plain": [
              "LinearRegression(copy_X=True, fit_intercept=True, n_jobs=None, normalize=False)"
            ]
          },
          "metadata": {
            "tags": []
          },
          "execution_count": 11
        }
      ]
    },
    {
      "cell_type": "markdown",
      "metadata": {
        "id": "w7eFLW5iA60g",
        "colab_type": "text"
      },
      "source": [
        "Hemos entrenado el modelo de regresión. ¿Cómo funcionará? Tomemos un procesador del conjunto de prueba y predigamos su desempeño."
      ]
    },
    {
      "cell_type": "code",
      "metadata": {
        "id": "L1uP6xkSA60g",
        "colab_type": "code",
        "outputId": "e2a11f4a-89ad-4665-8075-c43a2d665f37",
        "colab": {}
      },
      "source": [
        "one_x_test = X_test.sample(1, random_state=42)\n",
        "one_x_test"
      ],
      "execution_count": 0,
      "outputs": [
        {
          "output_type": "execute_result",
          "data": {
            "text/html": [
              "<div>\n",
              "<style scoped>\n",
              "    .dataframe tbody tr th:only-of-type {\n",
              "        vertical-align: middle;\n",
              "    }\n",
              "\n",
              "    .dataframe tbody tr th {\n",
              "        vertical-align: top;\n",
              "    }\n",
              "\n",
              "    .dataframe thead th {\n",
              "        text-align: right;\n",
              "    }\n",
              "</style>\n",
              "<table border=\"1\" class=\"dataframe\">\n",
              "  <thead>\n",
              "    <tr style=\"text-align: right;\">\n",
              "      <th></th>\n",
              "      <th>cycle-time</th>\n",
              "      <th>mem-min</th>\n",
              "      <th>mem-max</th>\n",
              "      <th>cache</th>\n",
              "      <th>channel-min</th>\n",
              "      <th>channel-max</th>\n",
              "    </tr>\n",
              "  </thead>\n",
              "  <tbody>\n",
              "    <tr>\n",
              "      <th>93</th>\n",
              "      <td>57</td>\n",
              "      <td>4000</td>\n",
              "      <td>16000</td>\n",
              "      <td>1</td>\n",
              "      <td>6</td>\n",
              "      <td>12</td>\n",
              "    </tr>\n",
              "  </tbody>\n",
              "</table>\n",
              "</div>"
            ],
            "text/plain": [
              "    cycle-time  mem-min  mem-max  cache  channel-min  channel-max\n",
              "93          57     4000    16000      1            6           12"
            ]
          },
          "metadata": {
            "tags": []
          },
          "execution_count": 12
        }
      ]
    },
    {
      "cell_type": "code",
      "metadata": {
        "id": "78hVrJc-A60i",
        "colab_type": "code",
        "outputId": "ba3e4e66-489f-4aa8-9c12-a6c30593296a",
        "colab": {}
      },
      "source": [
        "one_y_test = y_test.loc[one_x_test.index]\n",
        "one_y_test"
      ],
      "execution_count": 0,
      "outputs": [
        {
          "output_type": "execute_result",
          "data": {
            "text/plain": [
              "93    132\n",
              "Name: published-performace, dtype: int64"
            ]
          },
          "metadata": {
            "tags": []
          },
          "execution_count": 13
        }
      ]
    },
    {
      "cell_type": "code",
      "metadata": {
        "id": "4epSsl_xA60k",
        "colab_type": "code",
        "outputId": "bd7241c3-37d0-4732-c5f2-3a9ac8d51f71",
        "colab": {}
      },
      "source": [
        "reg.predict(one_x_test)"
      ],
      "execution_count": 0,
      "outputs": [
        {
          "output_type": "execute_result",
          "data": {
            "text/plain": [
              "array([112.93774329])"
            ]
          },
          "metadata": {
            "tags": []
          },
          "execution_count": 14
        }
      ]
    },
    {
      "cell_type": "markdown",
      "metadata": {
        "id": "6inZztZtA60m",
        "colab_type": "text"
      },
      "source": [
        "Hmmmm, ok, se equivocó (¿por mucho? ¿por poco?), pero no podemos concluir mucho con este resultado, pues es solo una prueba. Por suerte, podemos pasarle al método `predict` todos los datos de prueba de una vez y hacer que nos resuma cuán bien predijo usando [el coeficiente de determinación](https://scikit-learn.org/stable/modules/generated/sklearn.linear_model.LinearRegression.html#sklearn.linear_model.LinearRegression.score) de la predicción."
      ]
    },
    {
      "cell_type": "code",
      "metadata": {
        "id": "DcGK_jowA60m",
        "colab_type": "code",
        "colab": {}
      },
      "source": [
        "prediction = reg.predict(X_test)  # las predicciones de los datos de prueba"
      ],
      "execution_count": 0,
      "outputs": []
    },
    {
      "cell_type": "code",
      "metadata": {
        "id": "aYxW6ohtA60o",
        "colab_type": "code",
        "outputId": "5ba18bff-e39e-41c6-ec37-2caa746b2fbb",
        "colab": {}
      },
      "source": [
        "reg.score(X_test, y_test)"
      ],
      "execution_count": 0,
      "outputs": [
        {
          "output_type": "execute_result",
          "data": {
            "text/plain": [
              "0.7456539183392147"
            ]
          },
          "metadata": {
            "tags": []
          },
          "execution_count": 16
        }
      ]
    },
    {
      "cell_type": "markdown",
      "metadata": {
        "id": "twNGH-XKA60r",
        "colab_type": "text"
      },
      "source": [
        "Este valor es bueno, pues el coeficiente de determinación puede ser a lo más uno, el que es el mejor valor posible (*i.e.* indica que las predicciones fueron todas correctas)."
      ]
    },
    {
      "cell_type": "markdown",
      "metadata": {
        "id": "Ht9dT5pkA60r",
        "colab_type": "text"
      },
      "source": [
        "### Visualización\n",
        "\n",
        "Algunas formas de visualizar la regresión son [estas](https://stats.stackexchange.com/questions/89747/how-to-describe-or-visualize-a-multiple-linear-regression-model), pero son algo complicadas, pues hay más de una variable predictora. Puede hacer usted mismo una regresión simple con solo una variable predictora y usar el código de matplotlib dado para graficar la recta, que debería verse como [esta](https://scikit-learn.org/stable/auto_examples/linear_model/plot_ols.html#sphx-glr-auto-examples-linear-model-plot-ols-py)."
      ]
    },
    {
      "cell_type": "markdown",
      "metadata": {
        "id": "TugLpNpMA60s",
        "colab_type": "text"
      },
      "source": [
        "![](images/linear_regression_goal.png)"
      ]
    },
    {
      "cell_type": "code",
      "metadata": {
        "id": "WvGcwIHgA60u",
        "colab_type": "code",
        "colab": {}
      },
      "source": [
        "# Aquí escriba su código para entrenar con una sola variable predictora"
      ],
      "execution_count": 0,
      "outputs": []
    },
    {
      "cell_type": "code",
      "metadata": {
        "id": "oDqrOir-A60x",
        "colab_type": "code",
        "outputId": "3afa8759-d1c9-4cd4-c799-7cff05f4215d",
        "colab": {}
      },
      "source": [
        "# reemplaze sus datos (X_test, y_test y prediction). La celda arrojará un error si no lo hace\n",
        "import matplotlib.pyplot as plt\n",
        "\n",
        "plt.scatter(X_test, y_test,  color='black')\n",
        "plt.plot(X_test, prediction, color='blue')\n",
        "\n",
        "plt.xticks(())\n",
        "plt.yticks(())\n",
        "\n",
        "plt.show()"
      ],
      "execution_count": 0,
      "outputs": [
        {
          "output_type": "error",
          "ename": "ValueError",
          "evalue": "x and y must be the same size",
          "traceback": [
            "\u001b[1;31m---------------------------------------------------------------------------\u001b[0m",
            "\u001b[1;31mValueError\u001b[0m                                Traceback (most recent call last)",
            "\u001b[1;32m<ipython-input-18-fad88e5fae53>\u001b[0m in \u001b[0;36m<module>\u001b[1;34m\u001b[0m\n\u001b[0;32m      2\u001b[0m \u001b[1;32mimport\u001b[0m \u001b[0mmatplotlib\u001b[0m\u001b[1;33m.\u001b[0m\u001b[0mpyplot\u001b[0m \u001b[1;32mas\u001b[0m \u001b[0mplt\u001b[0m\u001b[1;33m\u001b[0m\u001b[1;33m\u001b[0m\u001b[0m\n\u001b[0;32m      3\u001b[0m \u001b[1;33m\u001b[0m\u001b[0m\n\u001b[1;32m----> 4\u001b[1;33m \u001b[0mplt\u001b[0m\u001b[1;33m.\u001b[0m\u001b[0mscatter\u001b[0m\u001b[1;33m(\u001b[0m\u001b[0mX_test\u001b[0m\u001b[1;33m,\u001b[0m \u001b[0my_test\u001b[0m\u001b[1;33m,\u001b[0m  \u001b[0mcolor\u001b[0m\u001b[1;33m=\u001b[0m\u001b[1;34m'black'\u001b[0m\u001b[1;33m)\u001b[0m\u001b[1;33m\u001b[0m\u001b[1;33m\u001b[0m\u001b[0m\n\u001b[0m\u001b[0;32m      5\u001b[0m \u001b[0mplt\u001b[0m\u001b[1;33m.\u001b[0m\u001b[0mplot\u001b[0m\u001b[1;33m(\u001b[0m\u001b[0mX_test\u001b[0m\u001b[1;33m,\u001b[0m \u001b[0mprediction\u001b[0m\u001b[1;33m,\u001b[0m \u001b[0mcolor\u001b[0m\u001b[1;33m=\u001b[0m\u001b[1;34m'blue'\u001b[0m\u001b[1;33m)\u001b[0m\u001b[1;33m\u001b[0m\u001b[1;33m\u001b[0m\u001b[0m\n\u001b[0;32m      6\u001b[0m \u001b[1;33m\u001b[0m\u001b[0m\n",
            "\u001b[1;32mc:\\users\\vmval\\onedrive\\documents\\my-documents\\2019-2\\infovis\\pyvenv\\lib\\site-packages\\matplotlib\\pyplot.py\u001b[0m in \u001b[0;36mscatter\u001b[1;34m(x, y, s, c, marker, cmap, norm, vmin, vmax, alpha, linewidths, verts, edgecolors, plotnonfinite, data, **kwargs)\u001b[0m\n\u001b[0;32m   2845\u001b[0m         \u001b[0mverts\u001b[0m\u001b[1;33m=\u001b[0m\u001b[0mverts\u001b[0m\u001b[1;33m,\u001b[0m \u001b[0medgecolors\u001b[0m\u001b[1;33m=\u001b[0m\u001b[0medgecolors\u001b[0m\u001b[1;33m,\u001b[0m\u001b[1;33m\u001b[0m\u001b[1;33m\u001b[0m\u001b[0m\n\u001b[0;32m   2846\u001b[0m         plotnonfinite=plotnonfinite, **({\"data\": data} if data is not\n\u001b[1;32m-> 2847\u001b[1;33m         None else {}), **kwargs)\n\u001b[0m\u001b[0;32m   2848\u001b[0m     \u001b[0msci\u001b[0m\u001b[1;33m(\u001b[0m\u001b[0m__ret\u001b[0m\u001b[1;33m)\u001b[0m\u001b[1;33m\u001b[0m\u001b[1;33m\u001b[0m\u001b[0m\n\u001b[0;32m   2849\u001b[0m     \u001b[1;32mreturn\u001b[0m \u001b[0m__ret\u001b[0m\u001b[1;33m\u001b[0m\u001b[1;33m\u001b[0m\u001b[0m\n",
            "\u001b[1;32mc:\\users\\vmval\\onedrive\\documents\\my-documents\\2019-2\\infovis\\pyvenv\\lib\\site-packages\\matplotlib\\__init__.py\u001b[0m in \u001b[0;36minner\u001b[1;34m(ax, data, *args, **kwargs)\u001b[0m\n\u001b[0;32m   1599\u001b[0m     \u001b[1;32mdef\u001b[0m \u001b[0minner\u001b[0m\u001b[1;33m(\u001b[0m\u001b[0max\u001b[0m\u001b[1;33m,\u001b[0m \u001b[1;33m*\u001b[0m\u001b[0margs\u001b[0m\u001b[1;33m,\u001b[0m \u001b[0mdata\u001b[0m\u001b[1;33m=\u001b[0m\u001b[1;32mNone\u001b[0m\u001b[1;33m,\u001b[0m \u001b[1;33m**\u001b[0m\u001b[0mkwargs\u001b[0m\u001b[1;33m)\u001b[0m\u001b[1;33m:\u001b[0m\u001b[1;33m\u001b[0m\u001b[1;33m\u001b[0m\u001b[0m\n\u001b[0;32m   1600\u001b[0m         \u001b[1;32mif\u001b[0m \u001b[0mdata\u001b[0m \u001b[1;32mis\u001b[0m \u001b[1;32mNone\u001b[0m\u001b[1;33m:\u001b[0m\u001b[1;33m\u001b[0m\u001b[1;33m\u001b[0m\u001b[0m\n\u001b[1;32m-> 1601\u001b[1;33m             \u001b[1;32mreturn\u001b[0m \u001b[0mfunc\u001b[0m\u001b[1;33m(\u001b[0m\u001b[0max\u001b[0m\u001b[1;33m,\u001b[0m \u001b[1;33m*\u001b[0m\u001b[0mmap\u001b[0m\u001b[1;33m(\u001b[0m\u001b[0msanitize_sequence\u001b[0m\u001b[1;33m,\u001b[0m \u001b[0margs\u001b[0m\u001b[1;33m)\u001b[0m\u001b[1;33m,\u001b[0m \u001b[1;33m**\u001b[0m\u001b[0mkwargs\u001b[0m\u001b[1;33m)\u001b[0m\u001b[1;33m\u001b[0m\u001b[1;33m\u001b[0m\u001b[0m\n\u001b[0m\u001b[0;32m   1602\u001b[0m \u001b[1;33m\u001b[0m\u001b[0m\n\u001b[0;32m   1603\u001b[0m         \u001b[0mbound\u001b[0m \u001b[1;33m=\u001b[0m \u001b[0mnew_sig\u001b[0m\u001b[1;33m.\u001b[0m\u001b[0mbind\u001b[0m\u001b[1;33m(\u001b[0m\u001b[0max\u001b[0m\u001b[1;33m,\u001b[0m \u001b[1;33m*\u001b[0m\u001b[0margs\u001b[0m\u001b[1;33m,\u001b[0m \u001b[1;33m**\u001b[0m\u001b[0mkwargs\u001b[0m\u001b[1;33m)\u001b[0m\u001b[1;33m\u001b[0m\u001b[1;33m\u001b[0m\u001b[0m\n",
            "\u001b[1;32mc:\\users\\vmval\\onedrive\\documents\\my-documents\\2019-2\\infovis\\pyvenv\\lib\\site-packages\\matplotlib\\axes\\_axes.py\u001b[0m in \u001b[0;36mscatter\u001b[1;34m(self, x, y, s, c, marker, cmap, norm, vmin, vmax, alpha, linewidths, verts, edgecolors, plotnonfinite, **kwargs)\u001b[0m\n\u001b[0;32m   4442\u001b[0m         \u001b[0my\u001b[0m \u001b[1;33m=\u001b[0m \u001b[0mnp\u001b[0m\u001b[1;33m.\u001b[0m\u001b[0mma\u001b[0m\u001b[1;33m.\u001b[0m\u001b[0mravel\u001b[0m\u001b[1;33m(\u001b[0m\u001b[0my\u001b[0m\u001b[1;33m)\u001b[0m\u001b[1;33m\u001b[0m\u001b[1;33m\u001b[0m\u001b[0m\n\u001b[0;32m   4443\u001b[0m         \u001b[1;32mif\u001b[0m \u001b[0mx\u001b[0m\u001b[1;33m.\u001b[0m\u001b[0msize\u001b[0m \u001b[1;33m!=\u001b[0m \u001b[0my\u001b[0m\u001b[1;33m.\u001b[0m\u001b[0msize\u001b[0m\u001b[1;33m:\u001b[0m\u001b[1;33m\u001b[0m\u001b[1;33m\u001b[0m\u001b[0m\n\u001b[1;32m-> 4444\u001b[1;33m             \u001b[1;32mraise\u001b[0m \u001b[0mValueError\u001b[0m\u001b[1;33m(\u001b[0m\u001b[1;34m\"x and y must be the same size\"\u001b[0m\u001b[1;33m)\u001b[0m\u001b[1;33m\u001b[0m\u001b[1;33m\u001b[0m\u001b[0m\n\u001b[0m\u001b[0;32m   4445\u001b[0m \u001b[1;33m\u001b[0m\u001b[0m\n\u001b[0;32m   4446\u001b[0m         \u001b[1;32mif\u001b[0m \u001b[0ms\u001b[0m \u001b[1;32mis\u001b[0m \u001b[1;32mNone\u001b[0m\u001b[1;33m:\u001b[0m\u001b[1;33m\u001b[0m\u001b[1;33m\u001b[0m\u001b[0m\n",
            "\u001b[1;31mValueError\u001b[0m: x and y must be the same size"
          ]
        }
      ]
    },
    {
      "cell_type": "markdown",
      "metadata": {
        "id": "bFCwLk3UA601",
        "colab_type": "text"
      },
      "source": [
        "## Modelo: Árbol de decisión"
      ]
    },
    {
      "cell_type": "markdown",
      "metadata": {
        "id": "TWlGakBqA601",
        "colab_type": "text"
      },
      "source": [
        "Este modelo de **clasificación** también es de aprendizaje supervisado y es uno de los más intuitivos, pues transparentan sus decisiones de clasificación y pueden visualizarse fácilmente. Inviertan 20 minutos en [este artículo](https://medium.com/greyatom/decision-trees-a-simple-way-to-visualize-a-decision-dc506a403aeb).\n",
        "\n",
        "En la regresión lineal tratamos de predecir un porcentaje, que es un valor continuo del 0 al infinito (porque es porcentaje relativo), pero ¿si quisiéramos clasificar algo con alguna clase de un grupo finito de clases, por ejemplo, clasificar un animal dentro de las categorías o clases *gato*, *perro*, *tardígrado*? Un algoritmo de clasificación, como un árbol de decisión, viene bien en este caso."
      ]
    },
    {
      "cell_type": "markdown",
      "metadata": {
        "id": "ISlY9mRmA602",
        "colab_type": "text"
      },
      "source": [
        "Para este ejemplo, usaremos [este *dataset*](https://archive.ics.uci.edu/ml/datasets/Flags) de banderas. Nuevamente se puede aprender más sobre él en el vínculo (pues algunos atributos están codificados con números, por ejemplo, el idioma o la religión). Vamos a predecir la religión del país de la bandera, pero se podría tratar de predecir algo como el continente, también."
      ]
    },
    {
      "cell_type": "markdown",
      "metadata": {
        "id": "yz90_N8DA602",
        "colab_type": "text"
      },
      "source": [
        "Los nombres de las columnas de este *dataset* son muchos más que en el anterior, por esto, los escribí en un archivo aparte llamado flag-columns.csv"
      ]
    },
    {
      "cell_type": "code",
      "metadata": {
        "id": "lmmi50BFA603",
        "colab_type": "code",
        "colab": {}
      },
      "source": [
        "names = pd.read_csv('datasets/flags/flag-columns.csv', header=None, squeeze=True)"
      ],
      "execution_count": 0,
      "outputs": []
    },
    {
      "cell_type": "markdown",
      "metadata": {
        "id": "-mFeQhlZA605",
        "colab_type": "text"
      },
      "source": [
        "Leamos los datos de banderas"
      ]
    },
    {
      "cell_type": "code",
      "metadata": {
        "id": "t1Wox6ceA606",
        "colab_type": "code",
        "outputId": "290363b0-b11c-4141-8fb9-d3f0d90c3c33",
        "colab": {}
      },
      "source": [
        "flags = pd.read_csv('datasets/flags/flag.csv', names=names)\n",
        "flags.head()"
      ],
      "execution_count": 0,
      "outputs": [
        {
          "output_type": "execute_result",
          "data": {
            "text/html": [
              "<div>\n",
              "<style scoped>\n",
              "    .dataframe tbody tr th:only-of-type {\n",
              "        vertical-align: middle;\n",
              "    }\n",
              "\n",
              "    .dataframe tbody tr th {\n",
              "        vertical-align: top;\n",
              "    }\n",
              "\n",
              "    .dataframe thead th {\n",
              "        text-align: right;\n",
              "    }\n",
              "</style>\n",
              "<table border=\"1\" class=\"dataframe\">\n",
              "  <thead>\n",
              "    <tr style=\"text-align: right;\">\n",
              "      <th></th>\n",
              "      <th>name</th>\n",
              "      <th>landmass</th>\n",
              "      <th>zone</th>\n",
              "      <th>area</th>\n",
              "      <th>population</th>\n",
              "      <th>language</th>\n",
              "      <th>religion</th>\n",
              "      <th>bars</th>\n",
              "      <th>stripes</th>\n",
              "      <th>colours</th>\n",
              "      <th>...</th>\n",
              "      <th>saltires</th>\n",
              "      <th>quarters</th>\n",
              "      <th>sunstars</th>\n",
              "      <th>crescent</th>\n",
              "      <th>triangle</th>\n",
              "      <th>icon</th>\n",
              "      <th>animate</th>\n",
              "      <th>text</th>\n",
              "      <th>topleft</th>\n",
              "      <th>botright</th>\n",
              "    </tr>\n",
              "  </thead>\n",
              "  <tbody>\n",
              "    <tr>\n",
              "      <th>0</th>\n",
              "      <td>Afghanistan</td>\n",
              "      <td>5</td>\n",
              "      <td>1</td>\n",
              "      <td>648</td>\n",
              "      <td>16</td>\n",
              "      <td>10</td>\n",
              "      <td>2</td>\n",
              "      <td>0</td>\n",
              "      <td>3</td>\n",
              "      <td>5</td>\n",
              "      <td>...</td>\n",
              "      <td>0</td>\n",
              "      <td>0</td>\n",
              "      <td>1</td>\n",
              "      <td>0</td>\n",
              "      <td>0</td>\n",
              "      <td>1</td>\n",
              "      <td>0</td>\n",
              "      <td>0</td>\n",
              "      <td>black</td>\n",
              "      <td>green</td>\n",
              "    </tr>\n",
              "    <tr>\n",
              "      <th>1</th>\n",
              "      <td>Albania</td>\n",
              "      <td>3</td>\n",
              "      <td>1</td>\n",
              "      <td>29</td>\n",
              "      <td>3</td>\n",
              "      <td>6</td>\n",
              "      <td>6</td>\n",
              "      <td>0</td>\n",
              "      <td>0</td>\n",
              "      <td>3</td>\n",
              "      <td>...</td>\n",
              "      <td>0</td>\n",
              "      <td>0</td>\n",
              "      <td>1</td>\n",
              "      <td>0</td>\n",
              "      <td>0</td>\n",
              "      <td>0</td>\n",
              "      <td>1</td>\n",
              "      <td>0</td>\n",
              "      <td>red</td>\n",
              "      <td>red</td>\n",
              "    </tr>\n",
              "    <tr>\n",
              "      <th>2</th>\n",
              "      <td>Algeria</td>\n",
              "      <td>4</td>\n",
              "      <td>1</td>\n",
              "      <td>2388</td>\n",
              "      <td>20</td>\n",
              "      <td>8</td>\n",
              "      <td>2</td>\n",
              "      <td>2</td>\n",
              "      <td>0</td>\n",
              "      <td>3</td>\n",
              "      <td>...</td>\n",
              "      <td>0</td>\n",
              "      <td>0</td>\n",
              "      <td>1</td>\n",
              "      <td>1</td>\n",
              "      <td>0</td>\n",
              "      <td>0</td>\n",
              "      <td>0</td>\n",
              "      <td>0</td>\n",
              "      <td>green</td>\n",
              "      <td>white</td>\n",
              "    </tr>\n",
              "    <tr>\n",
              "      <th>3</th>\n",
              "      <td>American-Samoa</td>\n",
              "      <td>6</td>\n",
              "      <td>3</td>\n",
              "      <td>0</td>\n",
              "      <td>0</td>\n",
              "      <td>1</td>\n",
              "      <td>1</td>\n",
              "      <td>0</td>\n",
              "      <td>0</td>\n",
              "      <td>5</td>\n",
              "      <td>...</td>\n",
              "      <td>0</td>\n",
              "      <td>0</td>\n",
              "      <td>0</td>\n",
              "      <td>0</td>\n",
              "      <td>1</td>\n",
              "      <td>1</td>\n",
              "      <td>1</td>\n",
              "      <td>0</td>\n",
              "      <td>blue</td>\n",
              "      <td>red</td>\n",
              "    </tr>\n",
              "    <tr>\n",
              "      <th>4</th>\n",
              "      <td>Andorra</td>\n",
              "      <td>3</td>\n",
              "      <td>1</td>\n",
              "      <td>0</td>\n",
              "      <td>0</td>\n",
              "      <td>6</td>\n",
              "      <td>0</td>\n",
              "      <td>3</td>\n",
              "      <td>0</td>\n",
              "      <td>3</td>\n",
              "      <td>...</td>\n",
              "      <td>0</td>\n",
              "      <td>0</td>\n",
              "      <td>0</td>\n",
              "      <td>0</td>\n",
              "      <td>0</td>\n",
              "      <td>0</td>\n",
              "      <td>0</td>\n",
              "      <td>0</td>\n",
              "      <td>blue</td>\n",
              "      <td>red</td>\n",
              "    </tr>\n",
              "  </tbody>\n",
              "</table>\n",
              "<p>5 rows × 30 columns</p>\n",
              "</div>"
            ],
            "text/plain": [
              "             name  landmass  zone  area  population  language  religion  bars  \\\n",
              "0     Afghanistan         5     1   648          16        10         2     0   \n",
              "1         Albania         3     1    29           3         6         6     0   \n",
              "2         Algeria         4     1  2388          20         8         2     2   \n",
              "3  American-Samoa         6     3     0           0         1         1     0   \n",
              "4         Andorra         3     1     0           0         6         0     3   \n",
              "\n",
              "   stripes  colours  ...  saltires  quarters  sunstars  crescent  triangle  \\\n",
              "0        3        5  ...         0         0         1         0         0   \n",
              "1        0        3  ...         0         0         1         0         0   \n",
              "2        0        3  ...         0         0         1         1         0   \n",
              "3        0        5  ...         0         0         0         0         1   \n",
              "4        0        3  ...         0         0         0         0         0   \n",
              "\n",
              "   icon  animate text  topleft  botright  \n",
              "0     1        0    0    black     green  \n",
              "1     0        1    0      red       red  \n",
              "2     0        0    0    green     white  \n",
              "3     1        1    0     blue       red  \n",
              "4     0        0    0     blue       red  \n",
              "\n",
              "[5 rows x 30 columns]"
            ]
          },
          "metadata": {
            "tags": []
          },
          "execution_count": 23
        }
      ]
    },
    {
      "cell_type": "markdown",
      "metadata": {
        "id": "P_mAcnOgA607",
        "colab_type": "text"
      },
      "source": [
        "Ahora debemos hacer algo un poco turbio. Resulta que la implementación de los árboles de decisión de scikit-learn no funciona con *strings*, por lo que debemos convertirlos en números. Como si esto fuera poco, esta implementación no funciona (no arroja errores, pero no funciona bien en el entrenamiento o formación del árbol) con datos categóricos no binarios y no ordinales, aunque estos estén codificados en números. Para hacerla funcionar con este tipo de datos, se deben codificar, los datos, en una codificación que se llama [*one-hot encoding*](https://medium.com/@michaeldelsole/what-is-one-hot-encoding-and-how-to-do-it-f0ae272f1179). Si quieren saber más sobre por qué hay que hacer esto, vean [esta respuesta](https://stackoverflow.com/a/56857255) en stackoverflow.\n",
        "\n",
        "Después de codificar los atributos categóricos no binarios y no ordinales a *one-hot*, cada uno de ellos se dividirá en tantos atributos como valores posibles haya tenido el atributo original. Por ejemplo, si el atributo idioma tuviera tres valores posibles: inglés, español e italiano, el atributo se dividiría en los siguientes tres atributos: idioma_inglés, idioma_español e idioma_italiano. De esta manera, cada atributo tendría naturaleza binaria (1 si el atributo está presente y 0 si no)."
      ]
    },
    {
      "cell_type": "code",
      "metadata": {
        "id": "TywwzuYDA608",
        "colab_type": "code",
        "colab": {}
      },
      "source": [
        "X = flags.loc[:,flags.columns != 'religion']\n",
        "\n",
        "# one hot encoding. scikit learn no soporta \n",
        "# atributos categóricos en árboles de decisión\n",
        "# https://stackoverflow.com/a/56857255\n",
        "cat_cols = pd.read_csv('datasets/flags/flag-cat-cols.csv', squeeze=True, header=None)\n",
        "cat_cols_no_religion = cat_cols.loc[cat_cols != 'religion']\n",
        "one_hot = pd.get_dummies(X, drop_first=True, columns=cat_cols_no_religion)\n",
        "\n",
        "y = flags['religion']\n",
        "X_train, X_test, y_train, y_test = train_test_split(one_hot, y, test_size=0.4, random_state=100)"
      ],
      "execution_count": 0,
      "outputs": []
    },
    {
      "cell_type": "markdown",
      "metadata": {
        "id": "52sLgU8FA609",
        "colab_type": "text"
      },
      "source": [
        "Ahora entrenemos con los datos codificados. La visualización del árbol se guardará en un PDF."
      ]
    },
    {
      "cell_type": "code",
      "metadata": {
        "id": "RE4XzF0_A60-",
        "colab_type": "code",
        "outputId": "af598309-4fec-48ef-a756-eaaa58145fdc",
        "colab": {}
      },
      "source": [
        "from sklearn import tree\n",
        "import graphviz\n",
        "\n",
        "# entrenamos el árbol y lo graficamos en un pdf con graphviz\n",
        "t = tree.DecisionTreeClassifier()\n",
        "t.fit(X_train, y_train)\n",
        "dot_data = tree.export_graphviz(\n",
        "    t,\n",
        "    out_file=None,\n",
        "    feature_names=one_hot.columns,\n",
        "    class_names=['Catholic',\n",
        "                 'Other Christian',\n",
        "                 'Muslim',\n",
        "                 'Buddhist',\n",
        "                 'Hindu',\n",
        "                 'Ethnic (?)',\n",
        "                 'Marxist (?)',\n",
        "                 'Other'],\n",
        "    filled=True,\n",
        "    rounded=True,\n",
        "    special_characters=True\n",
        ")\n",
        "graphviz.Source(dot_data).render('decision-tree')"
      ],
      "execution_count": 0,
      "outputs": [
        {
          "output_type": "execute_result",
          "data": {
            "text/plain": [
              "'decision-tree.pdf'"
            ]
          },
          "metadata": {
            "tags": []
          },
          "execution_count": 130
        }
      ]
    },
    {
      "cell_type": "markdown",
      "metadata": {
        "id": "F1qlQzvPA61A",
        "colab_type": "text"
      },
      "source": [
        "De la visualización se pueden desprender muchas cosas. Una es que, aparentemente, algo más determinante en la religión de un país no tiene mucho que ver con su bandera, sino con cosas como su idioma o ubicación. Noten, por ejemplo, que el primer nodo verifica si el idioma hablado por el país de la bandera es árabe (el idioma 8, véanse los detalles del *dataset*). Si es, entonces el árbol clasifica la bandera (o el país) con la religión del Islam.\n",
        "\n",
        "También pueden notar que no todos los *datasets* son muy correctos. Este, por ejemplo, tiene religiones marxistas y étnicas. Habría que justificar muy bien el por qué de la existencia de estas etiquetas."
      ]
    },
    {
      "cell_type": "markdown",
      "metadata": {
        "id": "kUO8vG7VA61A",
        "colab_type": "text"
      },
      "source": [
        "Para evaluar el árbol, usen el set de prueba y el método predict y score como lo usamos en regresión."
      ]
    },
    {
      "cell_type": "code",
      "metadata": {
        "id": "5x_AnxU1A61B",
        "colab_type": "code",
        "outputId": "b76f22cd-a3f2-4be1-c089-b63bb5c1865a",
        "colab": {}
      },
      "source": [
        "predictions = t.predict(X_test)\n",
        "predictions"
      ],
      "execution_count": 0,
      "outputs": [
        {
          "output_type": "execute_result",
          "data": {
            "text/plain": [
              "array([6, 1, 0, 0, 2, 2, 0, 3, 0, 2, 1, 3, 2, 7, 0, 0, 2, 5, 5, 5, 5, 5,\n",
              "       5, 1, 1, 2, 6, 5, 2, 0, 1, 1, 1, 1, 0, 1, 1, 0, 0, 6, 0, 5, 1, 6,\n",
              "       5, 2, 0, 0, 5, 0, 2, 0, 5, 0, 5, 1, 5, 5, 1, 2, 5, 1, 0, 3, 7, 5,\n",
              "       5, 0, 2, 0, 1, 0, 0, 5, 1, 0, 2, 2], dtype=int64)"
            ]
          },
          "metadata": {
            "tags": []
          },
          "execution_count": 131
        }
      ]
    },
    {
      "cell_type": "code",
      "metadata": {
        "id": "jlFcwWb5A61D",
        "colab_type": "code",
        "outputId": "04de64e4-6649-46bc-bf04-9686a21554a4",
        "colab": {}
      },
      "source": [
        "t.score(X_test, y_test)"
      ],
      "execution_count": 0,
      "outputs": [
        {
          "output_type": "execute_result",
          "data": {
            "text/plain": [
              "0.5256410256410257"
            ]
          },
          "metadata": {
            "tags": []
          },
          "execution_count": 132
        }
      ]
    },
    {
      "cell_type": "code",
      "metadata": {
        "id": "ZODbAlqpA61F",
        "colab_type": "code",
        "outputId": "26b0dc0e-8fa7-4c23-893c-54c8f99b9022",
        "colab": {}
      },
      "source": [
        "from sklearn import metrics\n",
        "\n",
        "conf_mat = metrics.confusion_matrix(y_test, predictions)\n",
        "conf_mat"
      ],
      "execution_count": 0,
      "outputs": [
        {
          "output_type": "execute_result",
          "data": {
            "text/plain": [
              "array([[12,  0,  0,  0,  0,  2,  1,  0],\n",
              "       [ 6, 12,  0,  0,  0,  3,  0,  0],\n",
              "       [ 0,  0,  7,  0,  0,  3,  1,  0],\n",
              "       [ 0,  0,  5,  0,  0,  0,  1,  0],\n",
              "       [ 0,  1,  0,  1,  0,  0,  0,  1],\n",
              "       [ 0,  1,  0,  0,  0,  9,  0,  0],\n",
              "       [ 4,  2,  0,  1,  0,  0,  1,  1],\n",
              "       [ 0,  0,  1,  1,  0,  1,  0,  0]], dtype=int64)"
            ]
          },
          "metadata": {
            "tags": []
          },
          "execution_count": 133
        }
      ]
    },
    {
      "cell_type": "code",
      "metadata": {
        "id": "mkTEo5BOA61I",
        "colab_type": "code",
        "outputId": "3d90a59d-418a-43d4-8592-a213c3725a6b",
        "colab": {}
      },
      "source": [
        "print(metrics.classification_report(y_test, predictions))"
      ],
      "execution_count": 0,
      "outputs": [
        {
          "output_type": "stream",
          "text": [
            "              precision    recall  f1-score   support\n",
            "\n",
            "           0       0.55      0.80      0.65        15\n",
            "           1       0.75      0.57      0.65        21\n",
            "           2       0.54      0.64      0.58        11\n",
            "           3       0.00      0.00      0.00         6\n",
            "           4       0.00      0.00      0.00         3\n",
            "           5       0.50      0.90      0.64        10\n",
            "           6       0.25      0.11      0.15         9\n",
            "           7       0.00      0.00      0.00         3\n",
            "\n",
            "    accuracy                           0.53        78\n",
            "   macro avg       0.32      0.38      0.33        78\n",
            "weighted avg       0.48      0.53      0.48        78\n",
            "\n"
          ],
          "name": "stdout"
        }
      ]
    },
    {
      "cell_type": "code",
      "metadata": {
        "id": "PL6h3PAzA61K",
        "colab_type": "code",
        "colab": {}
      },
      "source": [
        "import seaborn as sns"
      ],
      "execution_count": 0,
      "outputs": []
    },
    {
      "cell_type": "code",
      "metadata": {
        "id": "TC5XwKEnA61N",
        "colab_type": "code",
        "outputId": "18c543c1-20b4-43b9-b076-4d260d995063",
        "colab": {}
      },
      "source": [
        "sns.heatmap(conf_mat, annot=True, cbar=False, square=True)\n",
        "plt.xlabel('predicted value')\n",
        "plt.ylabel('true value');"
      ],
      "execution_count": 0,
      "outputs": [
        {
          "output_type": "display_data",
          "data": {
            "image/png": "[encoded data removed]",
            "text/plain": [
              "<Figure size 720x720 with 1 Axes>"
            ]
          },
          "metadata": {
            "tags": [],
            "needs_background": "light"
          }
        }
      ]
    }
  ]
}